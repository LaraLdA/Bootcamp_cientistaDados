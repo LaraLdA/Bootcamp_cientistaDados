{
 "cells": [
  {
   "cell_type": "markdown",
   "id": "46eea271",
   "metadata": {},
   "source": [
    "#### Futuramente essa análise será realizada em pyspark para comparação"
   ]
  },
  {
   "cell_type": "code",
   "execution_count": 2,
   "id": "4eb0003d",
   "metadata": {},
   "outputs": [],
   "source": [
    "import pandas as pd\n"
   ]
  },
  {
   "cell_type": "code",
   "execution_count": 3,
   "id": "c5d976b4",
   "metadata": {},
   "outputs": [],
   "source": [
    "data = pd.read_csv(\"stroke_data.csv\")"
   ]
  },
  {
   "cell_type": "code",
   "execution_count": 3,
   "id": "f964599e",
   "metadata": {},
   "outputs": [
    {
     "data": {
      "text/html": [
       "<div>\n",
       "<style scoped>\n",
       "    .dataframe tbody tr th:only-of-type {\n",
       "        vertical-align: middle;\n",
       "    }\n",
       "\n",
       "    .dataframe tbody tr th {\n",
       "        vertical-align: top;\n",
       "    }\n",
       "\n",
       "    .dataframe thead th {\n",
       "        text-align: right;\n",
       "    }\n",
       "</style>\n",
       "<table border=\"1\" class=\"dataframe\">\n",
       "  <thead>\n",
       "    <tr style=\"text-align: right;\">\n",
       "      <th></th>\n",
       "      <th>0</th>\n",
       "      <th>gender</th>\n",
       "      <th>age</th>\n",
       "      <th>hypertension</th>\n",
       "      <th>heart_disease</th>\n",
       "      <th>ever_married</th>\n",
       "      <th>work_type</th>\n",
       "      <th>Residence_type</th>\n",
       "      <th>avg_glucose_level</th>\n",
       "      <th>bmi</th>\n",
       "      <th>smoking_status</th>\n",
       "      <th>stroke</th>\n",
       "    </tr>\n",
       "  </thead>\n",
       "  <tbody>\n",
       "    <tr>\n",
       "      <th>0</th>\n",
       "      <td>1</td>\n",
       "      <td>Female</td>\n",
       "      <td>18.0</td>\n",
       "      <td>0</td>\n",
       "      <td>0</td>\n",
       "      <td>No</td>\n",
       "      <td>Private</td>\n",
       "      <td>Urban</td>\n",
       "      <td>94.19</td>\n",
       "      <td>12.12</td>\n",
       "      <td>smokes</td>\n",
       "      <td>1</td>\n",
       "    </tr>\n",
       "    <tr>\n",
       "      <th>1</th>\n",
       "      <td>2</td>\n",
       "      <td>Male</td>\n",
       "      <td>58.0</td>\n",
       "      <td>1</td>\n",
       "      <td>0</td>\n",
       "      <td>Yes</td>\n",
       "      <td>Private</td>\n",
       "      <td>Rural</td>\n",
       "      <td>154.24</td>\n",
       "      <td>33.70</td>\n",
       "      <td>never_smoked</td>\n",
       "      <td>0</td>\n",
       "    </tr>\n",
       "    <tr>\n",
       "      <th>2</th>\n",
       "      <td>3</td>\n",
       "      <td>Female</td>\n",
       "      <td>36.0</td>\n",
       "      <td>0</td>\n",
       "      <td>0</td>\n",
       "      <td>Yes</td>\n",
       "      <td>Govt_job</td>\n",
       "      <td>Urban</td>\n",
       "      <td>72.63</td>\n",
       "      <td>24.70</td>\n",
       "      <td>smokes</td>\n",
       "      <td>0</td>\n",
       "    </tr>\n",
       "    <tr>\n",
       "      <th>3</th>\n",
       "      <td>4</td>\n",
       "      <td>Female</td>\n",
       "      <td>62.0</td>\n",
       "      <td>0</td>\n",
       "      <td>0</td>\n",
       "      <td>Yes</td>\n",
       "      <td>Self-employed</td>\n",
       "      <td>Rural</td>\n",
       "      <td>85.52</td>\n",
       "      <td>31.20</td>\n",
       "      <td>formerly smoked</td>\n",
       "      <td>0</td>\n",
       "    </tr>\n",
       "    <tr>\n",
       "      <th>4</th>\n",
       "      <td>5</td>\n",
       "      <td>Female</td>\n",
       "      <td>82.0</td>\n",
       "      <td>0</td>\n",
       "      <td>0</td>\n",
       "      <td>Yes</td>\n",
       "      <td>Private</td>\n",
       "      <td>Rural</td>\n",
       "      <td>59.32</td>\n",
       "      <td>33.20</td>\n",
       "      <td>smokes</td>\n",
       "      <td>1</td>\n",
       "    </tr>\n",
       "  </tbody>\n",
       "</table>\n",
       "</div>"
      ],
      "text/plain": [
       "   0  gender   age  hypertension  heart_disease ever_married      work_type  \\\n",
       "0  1  Female  18.0             0              0           No        Private   \n",
       "1  2    Male  58.0             1              0          Yes        Private   \n",
       "2  3  Female  36.0             0              0          Yes       Govt_job   \n",
       "3  4  Female  62.0             0              0          Yes  Self-employed   \n",
       "4  5  Female  82.0             0              0          Yes        Private   \n",
       "\n",
       "  Residence_type  avg_glucose_level    bmi   smoking_status  stroke  \n",
       "0          Urban              94.19  12.12           smokes       1  \n",
       "1          Rural             154.24  33.70     never_smoked       0  \n",
       "2          Urban              72.63  24.70           smokes       0  \n",
       "3          Rural              85.52  31.20  formerly smoked       0  \n",
       "4          Rural              59.32  33.20           smokes       1  "
      ]
     },
     "execution_count": 3,
     "metadata": {},
     "output_type": "execute_result"
    }
   ],
   "source": [
    "data.head()"
   ]
  },
  {
   "cell_type": "markdown",
   "id": "21034129",
   "metadata": {},
   "source": [
    "#### Quantos registros existem no arquivo?"
   ]
  },
  {
   "cell_type": "code",
   "execution_count": 5,
   "id": "bfedb0fd",
   "metadata": {
    "scrolled": true
   },
   "outputs": [
    {
     "data": {
      "text/plain": [
       "67135"
      ]
     },
     "execution_count": 5,
     "metadata": {},
     "output_type": "execute_result"
    }
   ],
   "source": [
    "len(data.index)"
   ]
  },
  {
   "cell_type": "markdown",
   "id": "965eb06e",
   "metadata": {},
   "source": [
    "\n",
    "<kbd>resposta: 67135 </kbd>"
   ]
  },
  {
   "cell_type": "code",
   "execution_count": 9,
   "id": "e10afd22",
   "metadata": {},
   "outputs": [
    {
     "data": {
      "text/plain": [
       "Index(['0', 'gender', 'age', 'hypertension', 'heart_disease', 'ever_married',\n",
       "       'work_type', 'Residence_type', 'avg_glucose_level', 'bmi',\n",
       "       'smoking_status', 'stroke'],\n",
       "      dtype='object')"
      ]
     },
     "execution_count": 9,
     "metadata": {},
     "output_type": "execute_result"
    }
   ],
   "source": [
    "data.columns"
   ]
  },
  {
   "cell_type": "code",
   "execution_count": 8,
   "id": "f3ce1d00",
   "metadata": {
    "scrolled": false
   },
   "outputs": [
    {
     "name": "stdout",
     "output_type": "stream",
     "text": [
      "DATASET SHAPE:  (67135, 12) (linhas e colunas) \n",
      "\n",
      "-----------\n",
      "FEATURE DATA TYPES:\n",
      "<class 'pandas.core.frame.DataFrame'>\n",
      "RangeIndex: 67135 entries, 0 to 67134\n",
      "Data columns (total 12 columns):\n",
      " #   Column             Non-Null Count  Dtype  \n",
      "---  ------             --------------  -----  \n",
      " 0   0                  67135 non-null  int64  \n",
      " 1   gender             67135 non-null  object \n",
      " 2   age                67135 non-null  float64\n",
      " 3   hypertension       67135 non-null  int64  \n",
      " 4   heart_disease      67135 non-null  int64  \n",
      " 5   ever_married       67135 non-null  object \n",
      " 6   work_type          67135 non-null  object \n",
      " 7   Residence_type     67135 non-null  object \n",
      " 8   avg_glucose_level  67135 non-null  float64\n",
      " 9   bmi                67135 non-null  float64\n",
      " 10  smoking_status     67135 non-null  object \n",
      " 11  stroke             67135 non-null  int64  \n",
      "dtypes: float64(3), int64(4), object(5)\n",
      "memory usage: 6.1+ MB\n",
      "None\n"
     ]
    }
   ],
   "source": [
    "#Quantas colunas existem no arquivo? Quantas são numéricas? \n",
    "print('DATASET SHAPE: ', data.shape, '(linhas e colunas) \\n')\n",
    "print('-----------')\n",
    "print('FEATURE DATA TYPES:')\n",
    "print(data.info())"
   ]
  },
  {
   "cell_type": "markdown",
   "id": "a4650725",
   "metadata": {},
   "source": [
    "\n",
    "<kbd>resposta: 12 e 7 </kbd>"
   ]
  },
  {
   "cell_type": "markdown",
   "id": "885368c2",
   "metadata": {},
   "source": [
    "#### Legendas:\n",
    "- id: unique identifier\n",
    "-  gender: \"Male\", \"Female\" or \"Other\"\n",
    "- age: age of the patient\n",
    "-  hypertension: 0 if the patient doesn't have hypertension, 1 if the patient has hypertension\n",
    "- heart_disease: 0 if the patient doesn't have any heart diseases, 1 if the patient has a heart disease\n",
    "- ever_married: \"No\" or \"Yes\"\n",
    "-  work_type: \"children\", \"Govt_jov\", \"Never_worked\", \"Private\" or \"Self-employed\"\n",
    "-  Residence_type: \"Rural\" or \"Urban\"\n",
    "-  avg_glucose_level: average glucose level in blood\n",
    "-  bmi: body mass index\n",
    "-  smoking_status: \"formerly smoked\", \"never smoked\", \"smokes\" or \"Unknown\"*\n",
    "-  stroke: 1 if the patient had a stroke or 0 if not (1 = teve derrame e 0 não teve)\n",
    "*Note: \"Unknown\" in smoking_status means that the information is unavailable for this patient\n"
   ]
  },
  {
   "cell_type": "markdown",
   "id": "3bb26f99",
   "metadata": {},
   "source": [
    "#### No conjunto de dados, quantos pacientes sofreram e não sofreram derrame (stroke), respectivamente?\n",
    "\n"
   ]
  },
  {
   "cell_type": "code",
   "execution_count": 8,
   "id": "93d71f56",
   "metadata": {
    "scrolled": false
   },
   "outputs": [
    {
     "data": {
      "text/plain": [
       "1    40287\n",
       "0    26848\n",
       "Name: stroke, dtype: int64"
      ]
     },
     "execution_count": 8,
     "metadata": {},
     "output_type": "execute_result"
    }
   ],
   "source": [
    "data['stroke'].value_counts()"
   ]
  },
  {
   "cell_type": "markdown",
   "id": "5daf966e",
   "metadata": {},
   "source": [
    "\n",
    "<kbd>resposta: 40287 e 26848</kbd>"
   ]
  },
  {
   "cell_type": "markdown",
   "id": "becad031",
   "metadata": {},
   "source": [
    "~~A partir do dataframe, crie uma tabela temporária usando df.createOrReplaceTempView('table') e a seguir use spark.sql para escrever uma consulta SQL que obtenha quantos pacientes tiveram derrame por tipo de trabalho (work_type).~~\n",
    "\n",
    "#### Quantos pacientes sofreram derrame e trabalhavam respectivamente, no setor privado, de forma independente, no governo e quantas são crianças?"
   ]
  },
  {
   "cell_type": "code",
   "execution_count": 19,
   "id": "fd5680ec",
   "metadata": {},
   "outputs": [
    {
     "data": {
      "text/html": [
       "<div>\n",
       "<style scoped>\n",
       "    .dataframe tbody tr th:only-of-type {\n",
       "        vertical-align: middle;\n",
       "    }\n",
       "\n",
       "    .dataframe tbody tr th {\n",
       "        vertical-align: top;\n",
       "    }\n",
       "\n",
       "    .dataframe thead th {\n",
       "        text-align: right;\n",
       "    }\n",
       "</style>\n",
       "<table border=\"1\" class=\"dataframe\">\n",
       "  <thead>\n",
       "    <tr style=\"text-align: right;\">\n",
       "      <th></th>\n",
       "      <th>stroke</th>\n",
       "    </tr>\n",
       "    <tr>\n",
       "      <th>work_type</th>\n",
       "      <th></th>\n",
       "    </tr>\n",
       "  </thead>\n",
       "  <tbody>\n",
       "    <tr>\n",
       "      <th>Govt_job</th>\n",
       "      <td>5164</td>\n",
       "    </tr>\n",
       "    <tr>\n",
       "      <th>Never_worked</th>\n",
       "      <td>85</td>\n",
       "    </tr>\n",
       "    <tr>\n",
       "      <th>Private</th>\n",
       "      <td>23711</td>\n",
       "    </tr>\n",
       "    <tr>\n",
       "      <th>Self-employed</th>\n",
       "      <td>10807</td>\n",
       "    </tr>\n",
       "    <tr>\n",
       "      <th>children</th>\n",
       "      <td>520</td>\n",
       "    </tr>\n",
       "  </tbody>\n",
       "</table>\n",
       "</div>"
      ],
      "text/plain": [
       "               stroke\n",
       "work_type            \n",
       "Govt_job         5164\n",
       "Never_worked       85\n",
       "Private         23711\n",
       "Self-employed   10807\n",
       "children          520"
      ]
     },
     "execution_count": 19,
     "metadata": {},
     "output_type": "execute_result"
    }
   ],
   "source": [
    "#quantos pacientes tiveram derrame por tipo de trabalho (work_type)\n",
    "data.filter(items=['work_type','stroke']).groupby(['work_type']).sum()"
   ]
  },
  {
   "cell_type": "markdown",
   "id": "f5237047",
   "metadata": {},
   "source": [
    " \n",
    "<kbd>resposta: 23711, 10807, 5164, 520. </kbd>\n",
    "    "
   ]
  },
  {
   "cell_type": "markdown",
   "id": "0564af73",
   "metadata": {},
   "source": [
    "~~Escreva uma consulta com spark.sql para determinar a proporção, por gênero~~\n",
    "#### A maioria dos participantes é:"
   ]
  },
  {
   "cell_type": "code",
   "execution_count": 20,
   "id": "23dceee5",
   "metadata": {
    "scrolled": true
   },
   "outputs": [
    {
     "data": {
      "text/plain": [
       "Female    39530\n",
       "Male      27594\n",
       "Other        11\n",
       "Name: gender, dtype: int64"
      ]
     },
     "execution_count": 20,
     "metadata": {},
     "output_type": "execute_result"
    }
   ],
   "source": [
    "data['gender'].value_counts()"
   ]
  },
  {
   "cell_type": "markdown",
   "id": "c56bfe6e",
   "metadata": {},
   "source": [
    "<kbd>resposta:Female</kbd>"
   ]
  },
  {
   "cell_type": "markdown",
   "id": "28bf7942",
   "metadata": {},
   "source": [
    "~~Escreva uma consulta com spark.sql para determinar quem tem mais probabilidade de sofrer derrame: hipertensos ou \n",
    "    não-hipertensos.Você pode escrever uma consulta para cada grupo. A partir das probabilidades que você obteve~~"
   ]
  },
  {
   "cell_type": "markdown",
   "id": "6b751a1c",
   "metadata": {},
   "source": [
    "#### Quem tem mais probabilidade de sofrer derrame: hipertensos ou não-hipertensos?\n",
    "lembrando que: hypertension: 0 if the patient doesn't have hypertension, 1 if the patient has hypertension"
   ]
  },
  {
   "cell_type": "code",
   "execution_count": 250,
   "id": "dd7e9c91",
   "metadata": {},
   "outputs": [
    {
     "data": {
      "text/html": [
       "<div>\n",
       "<style scoped>\n",
       "    .dataframe tbody tr th:only-of-type {\n",
       "        vertical-align: middle;\n",
       "    }\n",
       "\n",
       "    .dataframe tbody tr th {\n",
       "        vertical-align: top;\n",
       "    }\n",
       "\n",
       "    .dataframe thead th {\n",
       "        text-align: right;\n",
       "    }\n",
       "</style>\n",
       "<table border=\"1\" class=\"dataframe\">\n",
       "  <thead>\n",
       "    <tr style=\"text-align: right;\">\n",
       "      <th></th>\n",
       "      <th>hypertension</th>\n",
       "      <th>stroke</th>\n",
       "      <th>age</th>\n",
       "    </tr>\n",
       "  </thead>\n",
       "  <tbody>\n",
       "    <tr>\n",
       "      <th>0</th>\n",
       "      <td>0</td>\n",
       "      <td>1</td>\n",
       "      <td>18.0</td>\n",
       "    </tr>\n",
       "    <tr>\n",
       "      <th>1</th>\n",
       "      <td>1</td>\n",
       "      <td>0</td>\n",
       "      <td>58.0</td>\n",
       "    </tr>\n",
       "    <tr>\n",
       "      <th>2</th>\n",
       "      <td>0</td>\n",
       "      <td>0</td>\n",
       "      <td>36.0</td>\n",
       "    </tr>\n",
       "    <tr>\n",
       "      <th>3</th>\n",
       "      <td>0</td>\n",
       "      <td>0</td>\n",
       "      <td>62.0</td>\n",
       "    </tr>\n",
       "    <tr>\n",
       "      <th>4</th>\n",
       "      <td>0</td>\n",
       "      <td>1</td>\n",
       "      <td>82.0</td>\n",
       "    </tr>\n",
       "    <tr>\n",
       "      <th>...</th>\n",
       "      <td>...</td>\n",
       "      <td>...</td>\n",
       "      <td>...</td>\n",
       "    </tr>\n",
       "    <tr>\n",
       "      <th>67130</th>\n",
       "      <td>0</td>\n",
       "      <td>1</td>\n",
       "      <td>18.0</td>\n",
       "    </tr>\n",
       "    <tr>\n",
       "      <th>67131</th>\n",
       "      <td>0</td>\n",
       "      <td>0</td>\n",
       "      <td>29.0</td>\n",
       "    </tr>\n",
       "    <tr>\n",
       "      <th>67132</th>\n",
       "      <td>0</td>\n",
       "      <td>1</td>\n",
       "      <td>24.0</td>\n",
       "    </tr>\n",
       "    <tr>\n",
       "      <th>67133</th>\n",
       "      <td>0</td>\n",
       "      <td>1</td>\n",
       "      <td>77.0</td>\n",
       "    </tr>\n",
       "    <tr>\n",
       "      <th>67134</th>\n",
       "      <td>0</td>\n",
       "      <td>1</td>\n",
       "      <td>76.0</td>\n",
       "    </tr>\n",
       "  </tbody>\n",
       "</table>\n",
       "<p>67135 rows × 3 columns</p>\n",
       "</div>"
      ],
      "text/plain": [
       "       hypertension  stroke   age\n",
       "0                 0       1  18.0\n",
       "1                 1       0  58.0\n",
       "2                 0       0  36.0\n",
       "3                 0       0  62.0\n",
       "4                 0       1  82.0\n",
       "...             ...     ...   ...\n",
       "67130             0       1  18.0\n",
       "67131             0       0  29.0\n",
       "67132             0       1  24.0\n",
       "67133             0       1  77.0\n",
       "67134             0       1  76.0\n",
       "\n",
       "[67135 rows x 3 columns]"
      ]
     },
     "execution_count": 250,
     "metadata": {},
     "output_type": "execute_result"
    }
   ],
   "source": [
    "new_data = pd.DataFrame(data, columns = ['hypertension','stroke','age'])\n",
    "new_data #reduzindo o dataframe para melhor visualizão"
   ]
  },
  {
   "cell_type": "code",
   "execution_count": 30,
   "id": "cbdafb0d",
   "metadata": {},
   "outputs": [],
   "source": [
    "import seaborn as sns \n",
    "import matplotlib.pyplot as plt "
   ]
  },
  {
   "cell_type": "code",
   "execution_count": 21,
   "id": "b7156ba0",
   "metadata": {
    "scrolled": true
   },
   "outputs": [
    {
     "data": {
      "text/plain": [
       "stroke\n",
       "1         8817\n",
       "0         2200\n",
       "dtype: int64"
      ]
     },
     "execution_count": 21,
     "metadata": {},
     "output_type": "execute_result"
    }
   ],
   "source": [
    "data.loc[data['hypertension']==1,['stroke']].value_counts()\n"
   ]
  },
  {
   "cell_type": "markdown",
   "id": "a3a181c8",
   "metadata": {},
   "source": [
    "<kbd>ou seja, 8817 pacientes com hipertensao tiveram derrame (stroke)o que é (80%). 2200 pacientes não tiveram. (20%)\n",
    "</kbd>\n"
   ]
  },
  {
   "cell_type": "markdown",
   "id": "8959e401",
   "metadata": {},
   "source": [
    "##### **(obs: Fazer analise  utilizando as métricas de estatistica depois)**"
   ]
  },
  {
   "cell_type": "code",
   "execution_count": 30,
   "id": "b8aec7b1",
   "metadata": {},
   "outputs": [
    {
     "data": {
      "text/html": [
       "<div>\n",
       "<style scoped>\n",
       "    .dataframe tbody tr th:only-of-type {\n",
       "        vertical-align: middle;\n",
       "    }\n",
       "\n",
       "    .dataframe tbody tr th {\n",
       "        vertical-align: top;\n",
       "    }\n",
       "\n",
       "    .dataframe thead th {\n",
       "        text-align: right;\n",
       "    }\n",
       "</style>\n",
       "<table border=\"1\" class=\"dataframe\">\n",
       "  <thead>\n",
       "    <tr style=\"text-align: right;\">\n",
       "      <th></th>\n",
       "      <th>stroke</th>\n",
       "    </tr>\n",
       "  </thead>\n",
       "  <tbody>\n",
       "    <tr>\n",
       "      <th>0</th>\n",
       "      <td>1</td>\n",
       "    </tr>\n",
       "    <tr>\n",
       "      <th>2</th>\n",
       "      <td>0</td>\n",
       "    </tr>\n",
       "    <tr>\n",
       "      <th>3</th>\n",
       "      <td>0</td>\n",
       "    </tr>\n",
       "    <tr>\n",
       "      <th>4</th>\n",
       "      <td>1</td>\n",
       "    </tr>\n",
       "    <tr>\n",
       "      <th>5</th>\n",
       "      <td>0</td>\n",
       "    </tr>\n",
       "    <tr>\n",
       "      <th>...</th>\n",
       "      <td>...</td>\n",
       "    </tr>\n",
       "    <tr>\n",
       "      <th>67130</th>\n",
       "      <td>1</td>\n",
       "    </tr>\n",
       "    <tr>\n",
       "      <th>67131</th>\n",
       "      <td>0</td>\n",
       "    </tr>\n",
       "    <tr>\n",
       "      <th>67132</th>\n",
       "      <td>1</td>\n",
       "    </tr>\n",
       "    <tr>\n",
       "      <th>67133</th>\n",
       "      <td>1</td>\n",
       "    </tr>\n",
       "    <tr>\n",
       "      <th>67134</th>\n",
       "      <td>1</td>\n",
       "    </tr>\n",
       "  </tbody>\n",
       "</table>\n",
       "<p>56118 rows × 1 columns</p>\n",
       "</div>"
      ],
      "text/plain": [
       "       stroke\n",
       "0           1\n",
       "2           0\n",
       "3           0\n",
       "4           1\n",
       "5           0\n",
       "...       ...\n",
       "67130       1\n",
       "67131       0\n",
       "67132       1\n",
       "67133       1\n",
       "67134       1\n",
       "\n",
       "[56118 rows x 1 columns]"
      ]
     },
     "execution_count": 30,
     "metadata": {},
     "output_type": "execute_result"
    }
   ],
   "source": [
    "data.loc[data['hypertension']==0,['stroke']]"
   ]
  },
  {
   "cell_type": "code",
   "execution_count": 33,
   "id": "348764ee",
   "metadata": {
    "scrolled": true
   },
   "outputs": [
    {
     "data": {
      "text/plain": [
       "stroke\n",
       "1         31470\n",
       "0         24648\n",
       "dtype: int64"
      ]
     },
     "execution_count": 33,
     "metadata": {},
     "output_type": "execute_result"
    }
   ],
   "source": [
    "\n",
    "(data.loc[data['hypertension']==0,['stroke']]).value_counts()"
   ]
  },
  {
   "cell_type": "code",
   "execution_count": 35,
   "id": "cfe66e0f",
   "metadata": {},
   "outputs": [
    {
     "data": {
      "text/plain": [
       "stroke    56118\n",
       "dtype: int64"
      ]
     },
     "execution_count": 35,
     "metadata": {},
     "output_type": "execute_result"
    }
   ],
   "source": [
    "\n",
    "(data.loc[data['hypertension']==0,['stroke']]).count()"
   ]
  },
  {
   "cell_type": "markdown",
   "id": "94b5ef17",
   "metadata": {},
   "source": [
    "<kbd>ou seja, 24648 pacientes sem hipertensao não tem stroke (43.9%) e 31470 tem (56 %)\n",
    "Neste caso, mesmo sem hipertensao o número de casos de stroke é maior.</kbd>\n"
   ]
  },
  {
   "cell_type": "markdown",
   "id": "19ca7185",
   "metadata": {},
   "source": [
    "~~Escreva uma consulta com spark.sql que determine o número de pessoas que sofreram derrame por idade~~\n",
    "#### Com qual idade o maior número de pessoas do conjunto de dados sofreu derrame?"
   ]
  },
  {
   "cell_type": "code",
   "execution_count": 42,
   "id": "4e3dcd59",
   "metadata": {},
   "outputs": [
    {
     "data": {
      "text/plain": [
       "age  \n",
       "79.00    2916\n",
       "78.00    2279\n",
       "80.00    1858\n",
       "81.00    1738\n",
       "82.00    1427\n",
       "         ... \n",
       "13.00     131\n",
       "12.00     119\n",
       "11.00      95\n",
       "10.00      62\n",
       "1.32        1\n",
       "Length: 74, dtype: int64"
      ]
     },
     "execution_count": 42,
     "metadata": {},
     "output_type": "execute_result"
    }
   ],
   "source": [
    "data.loc[data['stroke']==1,['age']].value_counts()"
   ]
  },
  {
   "cell_type": "markdown",
   "id": "9d2af210",
   "metadata": {},
   "source": [
    "<kbd>resposta:79.00 </kbd>"
   ]
  },
  {
   "cell_type": "markdown",
   "id": "d56ca173",
   "metadata": {},
   "source": [
    "##### ~~Usando a API de dataframes~~ \n",
    "#### Determine quantas pessoas sofreram derrames após os 50 anos."
   ]
  },
  {
   "cell_type": "code",
   "execution_count": 40,
   "id": "167ab799",
   "metadata": {},
   "outputs": [
    {
     "data": {
      "text/plain": [
       "28938"
      ]
     },
     "execution_count": 40,
     "metadata": {},
     "output_type": "execute_result"
    }
   ],
   "source": [
    "particao =data.loc[data['stroke']==1,['age']]\n",
    "len(particao.loc[particao['age']>50])"
   ]
  },
  {
   "cell_type": "markdown",
   "id": "05a450a7",
   "metadata": {},
   "source": [
    "\n",
    "<kbd>resposta:28938 </kbd>"
   ]
  },
  {
   "cell_type": "markdown",
   "id": "3f94d7d8",
   "metadata": {},
   "source": [
    "~~Usando spark.sql~~\n",
    "#### Determine qual o nível médio de glicose para pessoas que, respectivamente, sofreram e não sofreram derrame."
   ]
  },
  {
   "cell_type": "code",
   "execution_count": 53,
   "id": "22d3a72a",
   "metadata": {},
   "outputs": [
    {
     "data": {
      "text/plain": [
       "avg_glucose_level    119.95307\n",
       "dtype: float64"
      ]
     },
     "execution_count": 53,
     "metadata": {},
     "output_type": "execute_result"
    }
   ],
   "source": [
    "data.loc[data['stroke']==1,['avg_glucose_level']].mean()"
   ]
  },
  {
   "cell_type": "code",
   "execution_count": 54,
   "id": "619c4826",
   "metadata": {
    "scrolled": true
   },
   "outputs": [
    {
     "data": {
      "text/plain": [
       "avg_glucose_level    103.602731\n",
       "dtype: float64"
      ]
     },
     "execution_count": 54,
     "metadata": {},
     "output_type": "execute_result"
    }
   ],
   "source": [
    "data.loc[data['stroke']==0,['avg_glucose_level']].mean()"
   ]
  },
  {
   "cell_type": "markdown",
   "id": "457dadaf",
   "metadata": {},
   "source": [
    "<kbd>resposta:119 e 103 </kbd>"
   ]
  },
  {
   "cell_type": "markdown",
   "id": "e8a5b6a1",
   "metadata": {},
   "source": [
    "#### Qual é o BMI (IMC = índice de massa corpórea) médio de quem sofreu e não sofreu derrame?"
   ]
  },
  {
   "cell_type": "code",
   "execution_count": 57,
   "id": "efa4ce74",
   "metadata": {},
   "outputs": [
    {
     "data": {
      "text/plain": [
       "bmi    29.942491\n",
       "dtype: float64"
      ]
     },
     "execution_count": 57,
     "metadata": {},
     "output_type": "execute_result"
    }
   ],
   "source": [
    "data.loc[data['stroke']==1,['bmi']].mean()"
   ]
  },
  {
   "cell_type": "code",
   "execution_count": 58,
   "id": "0f4c5a61",
   "metadata": {
    "scrolled": true
   },
   "outputs": [
    {
     "data": {
      "text/plain": [
       "bmi    27.989679\n",
       "dtype: float64"
      ]
     },
     "execution_count": 58,
     "metadata": {},
     "output_type": "execute_result"
    }
   ],
   "source": [
    "data.loc[data['stroke']==0,['bmi']].mean()"
   ]
  },
  {
   "cell_type": "markdown",
   "id": "7a7c10ea",
   "metadata": {},
   "source": [
    "<kbd>resposta:29,94 e 27,99 </kbd>"
   ]
  },
  {
   "cell_type": "markdown",
   "id": "7e2d8ec6",
   "metadata": {},
   "source": [
    "### Parte 2 - Machine learning"
   ]
  },
  {
   "cell_type": "markdown",
   "id": "a94b9038",
   "metadata": {},
   "source": [
    "#### 1- Crie um modelo de árvore de decisão que prevê a chance de derrame (stroke) a partir das variáveis contínuas/categóricas: idade, BMI, hipertensão, doença do coração, nível médio de glicose.\n",
    "#### 2- Qual a acurácia de um modelo construído?\n"
   ]
  },
  {
   "cell_type": "code",
   "execution_count": 4,
   "id": "4746319d",
   "metadata": {
    "scrolled": true
   },
   "outputs": [],
   "source": [
    "new_df = data[['gender','age','hypertension','heart_disease','avg_glucose_level','bmi','smoking_status','stroke']]"
   ]
  },
  {
   "cell_type": "code",
   "execution_count": 5,
   "id": "661dc69d",
   "metadata": {},
   "outputs": [
    {
     "name": "stderr",
     "output_type": "stream",
     "text": [
      "C:\\Users\\la-re\\AppData\\Local\\Temp\\ipykernel_19920\\262867914.py:1: SettingWithCopyWarning: \n",
      "A value is trying to be set on a copy of a slice from a DataFrame.\n",
      "Try using .loc[row_indexer,col_indexer] = value instead\n",
      "\n",
      "See the caveats in the documentation: https://pandas.pydata.org/pandas-docs/stable/user_guide/indexing.html#returning-a-view-versus-a-copy\n",
      "  new_df.loc[new_df.stroke==1,'stroke']='Teve Derrame'\n"
     ]
    },
    {
     "data": {
      "text/html": [
       "<div>\n",
       "<style scoped>\n",
       "    .dataframe tbody tr th:only-of-type {\n",
       "        vertical-align: middle;\n",
       "    }\n",
       "\n",
       "    .dataframe tbody tr th {\n",
       "        vertical-align: top;\n",
       "    }\n",
       "\n",
       "    .dataframe thead th {\n",
       "        text-align: right;\n",
       "    }\n",
       "</style>\n",
       "<table border=\"1\" class=\"dataframe\">\n",
       "  <thead>\n",
       "    <tr style=\"text-align: right;\">\n",
       "      <th></th>\n",
       "      <th>gender</th>\n",
       "      <th>age</th>\n",
       "      <th>hypertension</th>\n",
       "      <th>heart_disease</th>\n",
       "      <th>avg_glucose_level</th>\n",
       "      <th>bmi</th>\n",
       "      <th>smoking_status</th>\n",
       "      <th>stroke</th>\n",
       "    </tr>\n",
       "  </thead>\n",
       "  <tbody>\n",
       "    <tr>\n",
       "      <th>0</th>\n",
       "      <td>Female</td>\n",
       "      <td>18.0</td>\n",
       "      <td>0</td>\n",
       "      <td>0</td>\n",
       "      <td>94.19</td>\n",
       "      <td>12.12</td>\n",
       "      <td>smokes</td>\n",
       "      <td>Teve Derrame</td>\n",
       "    </tr>\n",
       "    <tr>\n",
       "      <th>1</th>\n",
       "      <td>Male</td>\n",
       "      <td>58.0</td>\n",
       "      <td>1</td>\n",
       "      <td>0</td>\n",
       "      <td>154.24</td>\n",
       "      <td>33.70</td>\n",
       "      <td>never_smoked</td>\n",
       "      <td>Não Teve Derrame</td>\n",
       "    </tr>\n",
       "    <tr>\n",
       "      <th>2</th>\n",
       "      <td>Female</td>\n",
       "      <td>36.0</td>\n",
       "      <td>0</td>\n",
       "      <td>0</td>\n",
       "      <td>72.63</td>\n",
       "      <td>24.70</td>\n",
       "      <td>smokes</td>\n",
       "      <td>Não Teve Derrame</td>\n",
       "    </tr>\n",
       "    <tr>\n",
       "      <th>3</th>\n",
       "      <td>Female</td>\n",
       "      <td>62.0</td>\n",
       "      <td>0</td>\n",
       "      <td>0</td>\n",
       "      <td>85.52</td>\n",
       "      <td>31.20</td>\n",
       "      <td>formerly smoked</td>\n",
       "      <td>Não Teve Derrame</td>\n",
       "    </tr>\n",
       "    <tr>\n",
       "      <th>4</th>\n",
       "      <td>Female</td>\n",
       "      <td>82.0</td>\n",
       "      <td>0</td>\n",
       "      <td>0</td>\n",
       "      <td>59.32</td>\n",
       "      <td>33.20</td>\n",
       "      <td>smokes</td>\n",
       "      <td>Teve Derrame</td>\n",
       "    </tr>\n",
       "  </tbody>\n",
       "</table>\n",
       "</div>"
      ],
      "text/plain": [
       "   gender   age  hypertension  heart_disease  avg_glucose_level    bmi  \\\n",
       "0  Female  18.0             0              0              94.19  12.12   \n",
       "1    Male  58.0             1              0             154.24  33.70   \n",
       "2  Female  36.0             0              0              72.63  24.70   \n",
       "3  Female  62.0             0              0              85.52  31.20   \n",
       "4  Female  82.0             0              0              59.32  33.20   \n",
       "\n",
       "    smoking_status            stroke  \n",
       "0           smokes      Teve Derrame  \n",
       "1     never_smoked  Não Teve Derrame  \n",
       "2           smokes  Não Teve Derrame  \n",
       "3  formerly smoked  Não Teve Derrame  \n",
       "4           smokes      Teve Derrame  "
      ]
     },
     "execution_count": 5,
     "metadata": {},
     "output_type": "execute_result"
    }
   ],
   "source": [
    "new_df.loc[new_df.stroke==1,'stroke']='Teve Derrame'\n",
    "new_df.loc[new_df.stroke==0,'stroke']='Não Teve Derrame'\n",
    "new_df.head()"
   ]
  },
  {
   "cell_type": "code",
   "execution_count": 431,
   "id": "7664fd9d",
   "metadata": {},
   "outputs": [],
   "source": [
    "X = new_df.iloc[:,1:6].values # previsores\n",
    "y = new_df.iloc[:,7].values #alvo"
   ]
  },
  {
   "cell_type": "code",
   "execution_count": 432,
   "id": "4f2d369a",
   "metadata": {
    "scrolled": true
   },
   "outputs": [
    {
     "data": {
      "text/plain": [
       "array([[ 18.  ,   0.  ,   0.  ,  94.19,  12.12],\n",
       "       [ 58.  ,   1.  ,   0.  , 154.24,  33.7 ],\n",
       "       [ 36.  ,   0.  ,   0.  ,  72.63,  24.7 ],\n",
       "       ...,\n",
       "       [ 24.  ,   0.  ,   0.  , 141.18,  23.3 ],\n",
       "       [ 77.  ,   0.  ,   0.  , 199.71,  36.2 ],\n",
       "       [ 76.  ,   0.  ,   1.  , 202.96,  31.8 ]])"
      ]
     },
     "execution_count": 432,
     "metadata": {},
     "output_type": "execute_result"
    }
   ],
   "source": [
    "X"
   ]
  },
  {
   "cell_type": "code",
   "execution_count": 376,
   "id": "463b2378",
   "metadata": {},
   "outputs": [
    {
     "data": {
      "text/plain": [
       "array(['Teve Derrame', 'Não Teve Derrame', 'Não Teve Derrame', ...,\n",
       "       'Teve Derrame', 'Teve Derrame', 'Teve Derrame'], dtype=object)"
      ]
     },
     "execution_count": 376,
     "metadata": {},
     "output_type": "execute_result"
    }
   ],
   "source": [
    "y"
   ]
  },
  {
   "cell_type": "code",
   "execution_count": 450,
   "id": "39b214df",
   "metadata": {},
   "outputs": [],
   "source": [
    "#dividindo o dataset em treino e teste\n",
    "from sklearn.model_selection import train_test_split\n",
    "X_treinamento, X_teste, y_treinamento, y_test = train_test_split(X, y, test_size = 0.25, random_state=0)"
   ]
  },
  {
   "cell_type": "code",
   "execution_count": 451,
   "id": "cfa6875b",
   "metadata": {},
   "outputs": [],
   "source": [
    "#ajustando a escala dos dados\n",
    "from sklearn.preprocessing import StandardScaler\n",
    "scaler_x = StandardScaler()\n",
    "X = scaler_x.fit_transform(X)"
   ]
  },
  {
   "cell_type": "code",
   "execution_count": 452,
   "id": "271ac4d2",
   "metadata": {},
   "outputs": [
    {
     "data": {
      "text/plain": [
       "(50351, 5)"
      ]
     },
     "execution_count": 452,
     "metadata": {},
     "output_type": "execute_result"
    }
   ],
   "source": [
    "X_treinamento.shape"
   ]
  },
  {
   "cell_type": "code",
   "execution_count": 453,
   "id": "6b700989",
   "metadata": {},
   "outputs": [],
   "source": [
    "from sklearn.tree import DecisionTreeClassifier"
   ]
  },
  {
   "cell_type": "code",
   "execution_count": 454,
   "id": "426eef83",
   "metadata": {},
   "outputs": [
    {
     "data": {
      "text/plain": [
       "DecisionTreeClassifier(criterion='entropy', max_depth=20)"
      ]
     },
     "execution_count": 454,
     "metadata": {},
     "output_type": "execute_result"
    }
   ],
   "source": [
    "arvore_stroke = DecisionTreeClassifier(criterion ='entropy', max_depth =20) #pesquisar os critérios\n",
    "arvore_stroke.fit(X_treinamento, y_treinamento)\n"
   ]
  },
  {
   "cell_type": "code",
   "execution_count": 455,
   "id": "79da8cb9",
   "metadata": {
    "scrolled": false
   },
   "outputs": [
    {
     "data": {
      "text/plain": [
       "Index(['gender', 'age', 'hypertension', 'heart_disease', 'avg_glucose_level',\n",
       "       'bmi', 'smoking_status', 'stroke'],\n",
       "      dtype='object')"
      ]
     },
     "execution_count": 455,
     "metadata": {},
     "output_type": "execute_result"
    }
   ],
   "source": [
    "new_df.columns"
   ]
  },
  {
   "cell_type": "code",
   "execution_count": 456,
   "id": "537f9ecf",
   "metadata": {
    "scrolled": true
   },
   "outputs": [
    {
     "data": {
      "text/plain": [
       "array([0.38735572, 0.01173274, 0.01834067, 0.34800074, 0.23457013])"
      ]
     },
     "execution_count": 456,
     "metadata": {},
     "output_type": "execute_result"
    }
   ],
   "source": [
    "arvore_stroke.feature_importances_  # Grau de importancia de cada variável"
   ]
  },
  {
   "cell_type": "markdown",
   "id": "cb4ab118",
   "metadata": {},
   "source": [
    "**A feature mais importante foi a idade seguida da avg_glucose_level**"
   ]
  },
  {
   "cell_type": "code",
   "execution_count": 457,
   "id": "3e2b100d",
   "metadata": {},
   "outputs": [
    {
     "data": {
      "text/plain": [
       "array(['Não Teve Derrame', 'Teve Derrame'], dtype=object)"
      ]
     },
     "execution_count": 457,
     "metadata": {},
     "output_type": "execute_result"
    }
   ],
   "source": [
    "arvore_stroke.classes_"
   ]
  },
  {
   "cell_type": "code",
   "execution_count": 458,
   "id": "53145e00",
   "metadata": {},
   "outputs": [],
   "source": [
    "previsoes = arvore_stroke.predict(X_teste)"
   ]
  },
  {
   "cell_type": "code",
   "execution_count": 459,
   "id": "bb4305a7",
   "metadata": {},
   "outputs": [
    {
     "data": {
      "text/plain": [
       "array(['Não Teve Derrame', 'Teve Derrame', 'Teve Derrame', ...,\n",
       "       'Teve Derrame', 'Não Teve Derrame', 'Não Teve Derrame'],\n",
       "      dtype=object)"
      ]
     },
     "execution_count": 459,
     "metadata": {},
     "output_type": "execute_result"
    }
   ],
   "source": [
    "previsoes"
   ]
  },
  {
   "cell_type": "code",
   "execution_count": 460,
   "id": "c8172734",
   "metadata": {},
   "outputs": [
    {
     "data": {
      "text/plain": [
       "array(['Teve Derrame', 'Teve Derrame', 'Teve Derrame', ...,\n",
       "       'Teve Derrame', 'Não Teve Derrame', 'Teve Derrame'], dtype=object)"
      ]
     },
     "execution_count": 460,
     "metadata": {},
     "output_type": "execute_result"
    }
   ],
   "source": [
    "y_test"
   ]
  },
  {
   "cell_type": "code",
   "execution_count": 461,
   "id": "bb0f444f",
   "metadata": {
    "scrolled": true
   },
   "outputs": [
    {
     "data": {
      "text/plain": [
       "0.7300405147759771"
      ]
     },
     "execution_count": 461,
     "metadata": {},
     "output_type": "execute_result"
    }
   ],
   "source": [
    "from sklearn.metrics import accuracy_score\n",
    "taxa_acerto = accuracy_score(y_test, previsoes)\n",
    "taxa_acerto"
   ]
  },
  {
   "cell_type": "markdown",
   "id": "dc517823",
   "metadata": {},
   "source": [
    "<kbd>resposta:Menor que 75% </kbd>"
   ]
  },
  {
   "cell_type": "code",
   "execution_count": 141,
   "id": "7e718cb4",
   "metadata": {},
   "outputs": [],
   "source": [
    "import matplotlib.pyplot as plt\n",
    "from sklearn import tree"
   ]
  },
  {
   "cell_type": "code",
   "execution_count": null,
   "id": "6fedd24f",
   "metadata": {},
   "outputs": [],
   "source": [
    "# #plot da arvore\n",
    "# figura, eixos = plt.subplots(ncols=1,figsize=(11,11))\n",
    "# tree.plot_tree(arvore_stroke, feature_names= ['age', 'hypertension', 'heart_disease', 'avg_glucose_level', 'bmi'])"
   ]
  },
  {
   "cell_type": "markdown",
   "id": "8dd7cf4e",
   "metadata": {},
   "source": [
    "#### Adicione ao modelo as variáveis categóricas: genero e status de fumante."
   ]
  },
  {
   "cell_type": "code",
   "execution_count": 398,
   "id": "094462b3",
   "metadata": {
    "scrolled": true
   },
   "outputs": [
    {
     "data": {
      "text/html": [
       "<div>\n",
       "<style scoped>\n",
       "    .dataframe tbody tr th:only-of-type {\n",
       "        vertical-align: middle;\n",
       "    }\n",
       "\n",
       "    .dataframe tbody tr th {\n",
       "        vertical-align: top;\n",
       "    }\n",
       "\n",
       "    .dataframe thead th {\n",
       "        text-align: right;\n",
       "    }\n",
       "</style>\n",
       "<table border=\"1\" class=\"dataframe\">\n",
       "  <thead>\n",
       "    <tr style=\"text-align: right;\">\n",
       "      <th></th>\n",
       "      <th>Smoke_formerly smoked</th>\n",
       "      <th>Smoke_never_smoked</th>\n",
       "      <th>Smoke_smokes</th>\n",
       "    </tr>\n",
       "  </thead>\n",
       "  <tbody>\n",
       "    <tr>\n",
       "      <th>0</th>\n",
       "      <td>0</td>\n",
       "      <td>0</td>\n",
       "      <td>1</td>\n",
       "    </tr>\n",
       "    <tr>\n",
       "      <th>1</th>\n",
       "      <td>0</td>\n",
       "      <td>1</td>\n",
       "      <td>0</td>\n",
       "    </tr>\n",
       "    <tr>\n",
       "      <th>2</th>\n",
       "      <td>0</td>\n",
       "      <td>0</td>\n",
       "      <td>1</td>\n",
       "    </tr>\n",
       "    <tr>\n",
       "      <th>3</th>\n",
       "      <td>1</td>\n",
       "      <td>0</td>\n",
       "      <td>0</td>\n",
       "    </tr>\n",
       "    <tr>\n",
       "      <th>4</th>\n",
       "      <td>0</td>\n",
       "      <td>0</td>\n",
       "      <td>1</td>\n",
       "    </tr>\n",
       "  </tbody>\n",
       "</table>\n",
       "</div>"
      ],
      "text/plain": [
       "   Smoke_formerly smoked  Smoke_never_smoked  Smoke_smokes\n",
       "0                      0                   0             1\n",
       "1                      0                   1             0\n",
       "2                      0                   0             1\n",
       "3                      1                   0             0\n",
       "4                      0                   0             1"
      ]
     },
     "execution_count": 398,
     "metadata": {},
     "output_type": "execute_result"
    }
   ],
   "source": [
    "#fazendo one hot enconding. \n",
    "new_df2 = pd.get_dummies(new_df.smoking_status, prefix='Smoke')\n",
    "\n",
    "new_df2.head()\n"
   ]
  },
  {
   "cell_type": "code",
   "execution_count": 399,
   "id": "52ee1c3a",
   "metadata": {},
   "outputs": [
    {
     "data": {
      "text/html": [
       "<div>\n",
       "<style scoped>\n",
       "    .dataframe tbody tr th:only-of-type {\n",
       "        vertical-align: middle;\n",
       "    }\n",
       "\n",
       "    .dataframe tbody tr th {\n",
       "        vertical-align: top;\n",
       "    }\n",
       "\n",
       "    .dataframe thead th {\n",
       "        text-align: right;\n",
       "    }\n",
       "</style>\n",
       "<table border=\"1\" class=\"dataframe\">\n",
       "  <thead>\n",
       "    <tr style=\"text-align: right;\">\n",
       "      <th></th>\n",
       "      <th>Gender_Female</th>\n",
       "      <th>Gender_Male</th>\n",
       "      <th>Gender_Other</th>\n",
       "    </tr>\n",
       "  </thead>\n",
       "  <tbody>\n",
       "    <tr>\n",
       "      <th>0</th>\n",
       "      <td>1</td>\n",
       "      <td>0</td>\n",
       "      <td>0</td>\n",
       "    </tr>\n",
       "    <tr>\n",
       "      <th>1</th>\n",
       "      <td>0</td>\n",
       "      <td>1</td>\n",
       "      <td>0</td>\n",
       "    </tr>\n",
       "    <tr>\n",
       "      <th>2</th>\n",
       "      <td>1</td>\n",
       "      <td>0</td>\n",
       "      <td>0</td>\n",
       "    </tr>\n",
       "    <tr>\n",
       "      <th>3</th>\n",
       "      <td>1</td>\n",
       "      <td>0</td>\n",
       "      <td>0</td>\n",
       "    </tr>\n",
       "    <tr>\n",
       "      <th>4</th>\n",
       "      <td>1</td>\n",
       "      <td>0</td>\n",
       "      <td>0</td>\n",
       "    </tr>\n",
       "  </tbody>\n",
       "</table>\n",
       "</div>"
      ],
      "text/plain": [
       "   Gender_Female  Gender_Male  Gender_Other\n",
       "0              1            0             0\n",
       "1              0            1             0\n",
       "2              1            0             0\n",
       "3              1            0             0\n",
       "4              1            0             0"
      ]
     },
     "execution_count": 399,
     "metadata": {},
     "output_type": "execute_result"
    }
   ],
   "source": [
    "new_df3 = pd.get_dummies(new_df.gender, prefix='Gender')\n",
    "new_df3.head()"
   ]
  },
  {
   "cell_type": "code",
   "execution_count": 400,
   "id": "e42f121b",
   "metadata": {},
   "outputs": [],
   "source": [
    "#juntando dataframes\n",
    "new_df4= new_df.join(new_df2)\n",
    "new_df5= new_df4.join(new_df3)"
   ]
  },
  {
   "cell_type": "code",
   "execution_count": 401,
   "id": "b3bf0aaf",
   "metadata": {},
   "outputs": [
    {
     "data": {
      "text/html": [
       "<div>\n",
       "<style scoped>\n",
       "    .dataframe tbody tr th:only-of-type {\n",
       "        vertical-align: middle;\n",
       "    }\n",
       "\n",
       "    .dataframe tbody tr th {\n",
       "        vertical-align: top;\n",
       "    }\n",
       "\n",
       "    .dataframe thead th {\n",
       "        text-align: right;\n",
       "    }\n",
       "</style>\n",
       "<table border=\"1\" class=\"dataframe\">\n",
       "  <thead>\n",
       "    <tr style=\"text-align: right;\">\n",
       "      <th></th>\n",
       "      <th>age</th>\n",
       "      <th>hypertension</th>\n",
       "      <th>heart_disease</th>\n",
       "      <th>avg_glucose_level</th>\n",
       "      <th>bmi</th>\n",
       "      <th>stroke</th>\n",
       "      <th>Smoke_formerly smoked</th>\n",
       "      <th>Smoke_never_smoked</th>\n",
       "      <th>Smoke_smokes</th>\n",
       "      <th>Gender_Female</th>\n",
       "      <th>Gender_Male</th>\n",
       "      <th>Gender_Other</th>\n",
       "    </tr>\n",
       "  </thead>\n",
       "  <tbody>\n",
       "    <tr>\n",
       "      <th>0</th>\n",
       "      <td>18.0</td>\n",
       "      <td>0</td>\n",
       "      <td>0</td>\n",
       "      <td>94.19</td>\n",
       "      <td>12.12</td>\n",
       "      <td>Teve Derrame</td>\n",
       "      <td>0</td>\n",
       "      <td>0</td>\n",
       "      <td>1</td>\n",
       "      <td>1</td>\n",
       "      <td>0</td>\n",
       "      <td>0</td>\n",
       "    </tr>\n",
       "    <tr>\n",
       "      <th>1</th>\n",
       "      <td>58.0</td>\n",
       "      <td>1</td>\n",
       "      <td>0</td>\n",
       "      <td>154.24</td>\n",
       "      <td>33.70</td>\n",
       "      <td>Não Teve Derrame</td>\n",
       "      <td>0</td>\n",
       "      <td>1</td>\n",
       "      <td>0</td>\n",
       "      <td>0</td>\n",
       "      <td>1</td>\n",
       "      <td>0</td>\n",
       "    </tr>\n",
       "    <tr>\n",
       "      <th>2</th>\n",
       "      <td>36.0</td>\n",
       "      <td>0</td>\n",
       "      <td>0</td>\n",
       "      <td>72.63</td>\n",
       "      <td>24.70</td>\n",
       "      <td>Não Teve Derrame</td>\n",
       "      <td>0</td>\n",
       "      <td>0</td>\n",
       "      <td>1</td>\n",
       "      <td>1</td>\n",
       "      <td>0</td>\n",
       "      <td>0</td>\n",
       "    </tr>\n",
       "    <tr>\n",
       "      <th>3</th>\n",
       "      <td>62.0</td>\n",
       "      <td>0</td>\n",
       "      <td>0</td>\n",
       "      <td>85.52</td>\n",
       "      <td>31.20</td>\n",
       "      <td>Não Teve Derrame</td>\n",
       "      <td>1</td>\n",
       "      <td>0</td>\n",
       "      <td>0</td>\n",
       "      <td>1</td>\n",
       "      <td>0</td>\n",
       "      <td>0</td>\n",
       "    </tr>\n",
       "    <tr>\n",
       "      <th>4</th>\n",
       "      <td>82.0</td>\n",
       "      <td>0</td>\n",
       "      <td>0</td>\n",
       "      <td>59.32</td>\n",
       "      <td>33.20</td>\n",
       "      <td>Teve Derrame</td>\n",
       "      <td>0</td>\n",
       "      <td>0</td>\n",
       "      <td>1</td>\n",
       "      <td>1</td>\n",
       "      <td>0</td>\n",
       "      <td>0</td>\n",
       "    </tr>\n",
       "  </tbody>\n",
       "</table>\n",
       "</div>"
      ],
      "text/plain": [
       "    age  hypertension  heart_disease  avg_glucose_level    bmi  \\\n",
       "0  18.0             0              0              94.19  12.12   \n",
       "1  58.0             1              0             154.24  33.70   \n",
       "2  36.0             0              0              72.63  24.70   \n",
       "3  62.0             0              0              85.52  31.20   \n",
       "4  82.0             0              0              59.32  33.20   \n",
       "\n",
       "             stroke  Smoke_formerly smoked  Smoke_never_smoked  Smoke_smokes  \\\n",
       "0      Teve Derrame                      0                   0             1   \n",
       "1  Não Teve Derrame                      0                   1             0   \n",
       "2  Não Teve Derrame                      0                   0             1   \n",
       "3  Não Teve Derrame                      1                   0             0   \n",
       "4      Teve Derrame                      0                   0             1   \n",
       "\n",
       "   Gender_Female  Gender_Male  Gender_Other  \n",
       "0              1            0             0  \n",
       "1              0            1             0  \n",
       "2              1            0             0  \n",
       "3              1            0             0  \n",
       "4              1            0             0  "
      ]
     },
     "execution_count": 401,
     "metadata": {},
     "output_type": "execute_result"
    }
   ],
   "source": [
    "new_df5= new_df5.drop(columns=['smoking_status', 'gender'])\n",
    "new_df5.head()"
   ]
  },
  {
   "cell_type": "code",
   "execution_count": 402,
   "id": "da223689",
   "metadata": {},
   "outputs": [],
   "source": [
    "#ordenando as colunas para facilitar\n",
    "new_df5 = new_df5[['age','hypertension','heart_disease','avg_glucose_level','bmi','Gender_Female','Gender_Male','Gender_Other','Smoke_formerly smoked','Smoke_never_smoked','Smoke_smokes','stroke']]"
   ]
  },
  {
   "cell_type": "code",
   "execution_count": 403,
   "id": "34a5985c",
   "metadata": {},
   "outputs": [
    {
     "data": {
      "text/html": [
       "<div>\n",
       "<style scoped>\n",
       "    .dataframe tbody tr th:only-of-type {\n",
       "        vertical-align: middle;\n",
       "    }\n",
       "\n",
       "    .dataframe tbody tr th {\n",
       "        vertical-align: top;\n",
       "    }\n",
       "\n",
       "    .dataframe thead th {\n",
       "        text-align: right;\n",
       "    }\n",
       "</style>\n",
       "<table border=\"1\" class=\"dataframe\">\n",
       "  <thead>\n",
       "    <tr style=\"text-align: right;\">\n",
       "      <th></th>\n",
       "      <th>age</th>\n",
       "      <th>hypertension</th>\n",
       "      <th>heart_disease</th>\n",
       "      <th>avg_glucose_level</th>\n",
       "      <th>bmi</th>\n",
       "      <th>Gender_Female</th>\n",
       "      <th>Gender_Male</th>\n",
       "      <th>Gender_Other</th>\n",
       "      <th>Smoke_formerly smoked</th>\n",
       "      <th>Smoke_never_smoked</th>\n",
       "      <th>Smoke_smokes</th>\n",
       "      <th>stroke</th>\n",
       "    </tr>\n",
       "  </thead>\n",
       "  <tbody>\n",
       "    <tr>\n",
       "      <th>0</th>\n",
       "      <td>18.0</td>\n",
       "      <td>0</td>\n",
       "      <td>0</td>\n",
       "      <td>94.19</td>\n",
       "      <td>12.12</td>\n",
       "      <td>1</td>\n",
       "      <td>0</td>\n",
       "      <td>0</td>\n",
       "      <td>0</td>\n",
       "      <td>0</td>\n",
       "      <td>1</td>\n",
       "      <td>Teve Derrame</td>\n",
       "    </tr>\n",
       "    <tr>\n",
       "      <th>1</th>\n",
       "      <td>58.0</td>\n",
       "      <td>1</td>\n",
       "      <td>0</td>\n",
       "      <td>154.24</td>\n",
       "      <td>33.70</td>\n",
       "      <td>0</td>\n",
       "      <td>1</td>\n",
       "      <td>0</td>\n",
       "      <td>0</td>\n",
       "      <td>1</td>\n",
       "      <td>0</td>\n",
       "      <td>Não Teve Derrame</td>\n",
       "    </tr>\n",
       "    <tr>\n",
       "      <th>2</th>\n",
       "      <td>36.0</td>\n",
       "      <td>0</td>\n",
       "      <td>0</td>\n",
       "      <td>72.63</td>\n",
       "      <td>24.70</td>\n",
       "      <td>1</td>\n",
       "      <td>0</td>\n",
       "      <td>0</td>\n",
       "      <td>0</td>\n",
       "      <td>0</td>\n",
       "      <td>1</td>\n",
       "      <td>Não Teve Derrame</td>\n",
       "    </tr>\n",
       "    <tr>\n",
       "      <th>3</th>\n",
       "      <td>62.0</td>\n",
       "      <td>0</td>\n",
       "      <td>0</td>\n",
       "      <td>85.52</td>\n",
       "      <td>31.20</td>\n",
       "      <td>1</td>\n",
       "      <td>0</td>\n",
       "      <td>0</td>\n",
       "      <td>1</td>\n",
       "      <td>0</td>\n",
       "      <td>0</td>\n",
       "      <td>Não Teve Derrame</td>\n",
       "    </tr>\n",
       "    <tr>\n",
       "      <th>4</th>\n",
       "      <td>82.0</td>\n",
       "      <td>0</td>\n",
       "      <td>0</td>\n",
       "      <td>59.32</td>\n",
       "      <td>33.20</td>\n",
       "      <td>1</td>\n",
       "      <td>0</td>\n",
       "      <td>0</td>\n",
       "      <td>0</td>\n",
       "      <td>0</td>\n",
       "      <td>1</td>\n",
       "      <td>Teve Derrame</td>\n",
       "    </tr>\n",
       "    <tr>\n",
       "      <th>...</th>\n",
       "      <td>...</td>\n",
       "      <td>...</td>\n",
       "      <td>...</td>\n",
       "      <td>...</td>\n",
       "      <td>...</td>\n",
       "      <td>...</td>\n",
       "      <td>...</td>\n",
       "      <td>...</td>\n",
       "      <td>...</td>\n",
       "      <td>...</td>\n",
       "      <td>...</td>\n",
       "      <td>...</td>\n",
       "    </tr>\n",
       "    <tr>\n",
       "      <th>67130</th>\n",
       "      <td>18.0</td>\n",
       "      <td>0</td>\n",
       "      <td>0</td>\n",
       "      <td>109.06</td>\n",
       "      <td>22.10</td>\n",
       "      <td>0</td>\n",
       "      <td>1</td>\n",
       "      <td>0</td>\n",
       "      <td>0</td>\n",
       "      <td>0</td>\n",
       "      <td>1</td>\n",
       "      <td>Teve Derrame</td>\n",
       "    </tr>\n",
       "    <tr>\n",
       "      <th>67131</th>\n",
       "      <td>29.0</td>\n",
       "      <td>0</td>\n",
       "      <td>0</td>\n",
       "      <td>73.02</td>\n",
       "      <td>32.10</td>\n",
       "      <td>1</td>\n",
       "      <td>0</td>\n",
       "      <td>0</td>\n",
       "      <td>0</td>\n",
       "      <td>1</td>\n",
       "      <td>0</td>\n",
       "      <td>Não Teve Derrame</td>\n",
       "    </tr>\n",
       "    <tr>\n",
       "      <th>67132</th>\n",
       "      <td>24.0</td>\n",
       "      <td>0</td>\n",
       "      <td>0</td>\n",
       "      <td>141.18</td>\n",
       "      <td>23.30</td>\n",
       "      <td>1</td>\n",
       "      <td>0</td>\n",
       "      <td>0</td>\n",
       "      <td>0</td>\n",
       "      <td>0</td>\n",
       "      <td>1</td>\n",
       "      <td>Teve Derrame</td>\n",
       "    </tr>\n",
       "    <tr>\n",
       "      <th>67133</th>\n",
       "      <td>77.0</td>\n",
       "      <td>0</td>\n",
       "      <td>0</td>\n",
       "      <td>199.71</td>\n",
       "      <td>36.20</td>\n",
       "      <td>1</td>\n",
       "      <td>0</td>\n",
       "      <td>0</td>\n",
       "      <td>1</td>\n",
       "      <td>0</td>\n",
       "      <td>0</td>\n",
       "      <td>Teve Derrame</td>\n",
       "    </tr>\n",
       "    <tr>\n",
       "      <th>67134</th>\n",
       "      <td>76.0</td>\n",
       "      <td>0</td>\n",
       "      <td>1</td>\n",
       "      <td>202.96</td>\n",
       "      <td>31.80</td>\n",
       "      <td>0</td>\n",
       "      <td>1</td>\n",
       "      <td>0</td>\n",
       "      <td>1</td>\n",
       "      <td>0</td>\n",
       "      <td>0</td>\n",
       "      <td>Teve Derrame</td>\n",
       "    </tr>\n",
       "  </tbody>\n",
       "</table>\n",
       "<p>67135 rows × 12 columns</p>\n",
       "</div>"
      ],
      "text/plain": [
       "        age  hypertension  heart_disease  avg_glucose_level    bmi  \\\n",
       "0      18.0             0              0              94.19  12.12   \n",
       "1      58.0             1              0             154.24  33.70   \n",
       "2      36.0             0              0              72.63  24.70   \n",
       "3      62.0             0              0              85.52  31.20   \n",
       "4      82.0             0              0              59.32  33.20   \n",
       "...     ...           ...            ...                ...    ...   \n",
       "67130  18.0             0              0             109.06  22.10   \n",
       "67131  29.0             0              0              73.02  32.10   \n",
       "67132  24.0             0              0             141.18  23.30   \n",
       "67133  77.0             0              0             199.71  36.20   \n",
       "67134  76.0             0              1             202.96  31.80   \n",
       "\n",
       "       Gender_Female  Gender_Male  Gender_Other  Smoke_formerly smoked  \\\n",
       "0                  1            0             0                      0   \n",
       "1                  0            1             0                      0   \n",
       "2                  1            0             0                      0   \n",
       "3                  1            0             0                      1   \n",
       "4                  1            0             0                      0   \n",
       "...              ...          ...           ...                    ...   \n",
       "67130              0            1             0                      0   \n",
       "67131              1            0             0                      0   \n",
       "67132              1            0             0                      0   \n",
       "67133              1            0             0                      1   \n",
       "67134              0            1             0                      1   \n",
       "\n",
       "       Smoke_never_smoked  Smoke_smokes            stroke  \n",
       "0                       0             1      Teve Derrame  \n",
       "1                       1             0  Não Teve Derrame  \n",
       "2                       0             1  Não Teve Derrame  \n",
       "3                       0             0  Não Teve Derrame  \n",
       "4                       0             1      Teve Derrame  \n",
       "...                   ...           ...               ...  \n",
       "67130                   0             1      Teve Derrame  \n",
       "67131                   1             0  Não Teve Derrame  \n",
       "67132                   0             1      Teve Derrame  \n",
       "67133                   0             0      Teve Derrame  \n",
       "67134                   0             0      Teve Derrame  \n",
       "\n",
       "[67135 rows x 12 columns]"
      ]
     },
     "execution_count": 403,
     "metadata": {},
     "output_type": "execute_result"
    }
   ],
   "source": [
    "new_df5"
   ]
  },
  {
   "cell_type": "code",
   "execution_count": 418,
   "id": "022eebe2",
   "metadata": {},
   "outputs": [
    {
     "data": {
      "text/plain": [
       "Index(['age', 'hypertension', 'heart_disease', 'avg_glucose_level', 'bmi',\n",
       "       'Gender_Female', 'Gender_Male', 'Gender_Other', 'Smoke_formerly smoked',\n",
       "       'Smoke_never_smoked', 'Smoke_smokes', 'stroke'],\n",
       "      dtype='object')"
      ]
     },
     "execution_count": 418,
     "metadata": {},
     "output_type": "execute_result"
    }
   ],
   "source": [
    "new_df5.columns"
   ]
  },
  {
   "cell_type": "code",
   "execution_count": 419,
   "id": "e6ec9194",
   "metadata": {},
   "outputs": [],
   "source": [
    "X2 = new_df5.iloc[:,0:11].values # previsores\n",
    "y2 = new_df5.iloc[:,11].values #alvo"
   ]
  },
  {
   "cell_type": "code",
   "execution_count": 420,
   "id": "db772749",
   "metadata": {
    "scrolled": true
   },
   "outputs": [
    {
     "data": {
      "text/plain": [
       "array([[18.,  0.,  0., ...,  0.,  0.,  1.],\n",
       "       [58.,  1.,  0., ...,  0.,  1.,  0.],\n",
       "       [36.,  0.,  0., ...,  0.,  0.,  1.],\n",
       "       ...,\n",
       "       [24.,  0.,  0., ...,  0.,  0.,  1.],\n",
       "       [77.,  0.,  0., ...,  1.,  0.,  0.],\n",
       "       [76.,  0.,  1., ...,  1.,  0.,  0.]])"
      ]
     },
     "execution_count": 420,
     "metadata": {},
     "output_type": "execute_result"
    }
   ],
   "source": [
    "X2"
   ]
  },
  {
   "cell_type": "code",
   "execution_count": 408,
   "id": "6cda84b9",
   "metadata": {},
   "outputs": [
    {
     "data": {
      "text/plain": [
       "array(['Teve Derrame', 'Não Teve Derrame', 'Não Teve Derrame', ...,\n",
       "       'Teve Derrame', 'Teve Derrame', 'Teve Derrame'], dtype=object)"
      ]
     },
     "execution_count": 408,
     "metadata": {},
     "output_type": "execute_result"
    }
   ],
   "source": [
    "y2"
   ]
  },
  {
   "cell_type": "code",
   "execution_count": 409,
   "id": "39d8f913",
   "metadata": {},
   "outputs": [
    {
     "name": "stdout",
     "output_type": "stream",
     "text": [
      "<class 'pandas.core.frame.DataFrame'>\n",
      "RangeIndex: 67135 entries, 0 to 67134\n",
      "Data columns (total 12 columns):\n",
      " #   Column                 Non-Null Count  Dtype  \n",
      "---  ------                 --------------  -----  \n",
      " 0   age                    67135 non-null  float64\n",
      " 1   hypertension           67135 non-null  int64  \n",
      " 2   heart_disease          67135 non-null  int64  \n",
      " 3   avg_glucose_level      67135 non-null  float64\n",
      " 4   bmi                    67135 non-null  float64\n",
      " 5   Gender_Female          67135 non-null  uint8  \n",
      " 6   Gender_Male            67135 non-null  uint8  \n",
      " 7   Gender_Other           67135 non-null  uint8  \n",
      " 8   Smoke_formerly smoked  67135 non-null  uint8  \n",
      " 9   Smoke_never_smoked     67135 non-null  uint8  \n",
      " 10  Smoke_smokes           67135 non-null  uint8  \n",
      " 11  stroke                 67135 non-null  object \n",
      "dtypes: float64(3), int64(2), object(1), uint8(6)\n",
      "memory usage: 3.5+ MB\n",
      "None\n"
     ]
    }
   ],
   "source": [
    "print(new_df5.info())"
   ]
  },
  {
   "cell_type": "code",
   "execution_count": 421,
   "id": "ada9b0dd",
   "metadata": {},
   "outputs": [
    {
     "data": {
      "text/plain": [
       "(50351, 11)"
      ]
     },
     "execution_count": 421,
     "metadata": {},
     "output_type": "execute_result"
    }
   ],
   "source": [
    "\n",
    "X2_treinamento, X2_teste, y2_treinamento, y2_test = train_test_split(X2, y2, test_size = 0.25, random_state=0)\n",
    "scaler_x2 = StandardScaler()\n",
    "X2 = scaler_x2.fit_transform(X2)\n",
    "X2_treinamento.shape\n"
   ]
  },
  {
   "cell_type": "code",
   "execution_count": 422,
   "id": "261f52f6",
   "metadata": {},
   "outputs": [],
   "source": [
    "arvore_stroke2 = DecisionTreeClassifier(criterion ='entropy', max_depth =20) #olhar isso\n",
    "arvore_stroke2.fit(X2_treinamento, y2_treinamento)\n",
    "previsoes2 = arvore_stroke2.predict(X2_teste)\n"
   ]
  },
  {
   "cell_type": "code",
   "execution_count": 412,
   "id": "7b74681e",
   "metadata": {},
   "outputs": [
    {
     "data": {
      "text/plain": [
       "Index(['age', 'hypertension', 'heart_disease', 'avg_glucose_level', 'bmi',\n",
       "       'Gender_Female', 'Gender_Male', 'Gender_Other', 'Smoke_formerly smoked',\n",
       "       'Smoke_never_smoked', 'Smoke_smokes', 'stroke'],\n",
       "      dtype='object')"
      ]
     },
     "execution_count": 412,
     "metadata": {},
     "output_type": "execute_result"
    }
   ],
   "source": [
    "new_df5.columns"
   ]
  },
  {
   "cell_type": "code",
   "execution_count": 423,
   "id": "f7a34a26",
   "metadata": {
    "scrolled": true
   },
   "outputs": [
    {
     "data": {
      "text/plain": [
       "array([0.16109844, 0.01164923, 0.01452833, 0.20570726, 0.15729982,\n",
       "       0.00844469, 0.00559637, 0.        , 0.01772869, 0.37437751,\n",
       "       0.04356964])"
      ]
     },
     "execution_count": 423,
     "metadata": {},
     "output_type": "execute_result"
    }
   ],
   "source": [
    "arvore_stroke2.feature_importances_  # Grau de importancia de cada variável\n"
   ]
  },
  {
   "cell_type": "markdown",
   "id": "a45a64fe",
   "metadata": {},
   "source": [
    "**A feature mais importante é Smoke**"
   ]
  },
  {
   "cell_type": "code",
   "execution_count": 424,
   "id": "28a3ea40",
   "metadata": {},
   "outputs": [
    {
     "data": {
      "text/plain": [
       "array(['Não Teve Derrame', 'Teve Derrame'], dtype=object)"
      ]
     },
     "execution_count": 424,
     "metadata": {},
     "output_type": "execute_result"
    }
   ],
   "source": [
    "arvore_stroke2.classes_"
   ]
  },
  {
   "cell_type": "code",
   "execution_count": 425,
   "id": "5d5ddb6f",
   "metadata": {},
   "outputs": [
    {
     "data": {
      "text/plain": [
       "array(['Teve Derrame', 'Teve Derrame', 'Teve Derrame', ...,\n",
       "       'Teve Derrame', 'Não Teve Derrame', 'Teve Derrame'], dtype=object)"
      ]
     },
     "execution_count": 425,
     "metadata": {},
     "output_type": "execute_result"
    }
   ],
   "source": [
    "previsoes2"
   ]
  },
  {
   "cell_type": "code",
   "execution_count": 426,
   "id": "048d69fa",
   "metadata": {},
   "outputs": [
    {
     "data": {
      "text/plain": [
       "array(['Teve Derrame', 'Teve Derrame', 'Teve Derrame', ...,\n",
       "       'Teve Derrame', 'Não Teve Derrame', 'Teve Derrame'], dtype=object)"
      ]
     },
     "execution_count": 426,
     "metadata": {},
     "output_type": "execute_result"
    }
   ],
   "source": [
    "y2_test"
   ]
  },
  {
   "cell_type": "markdown",
   "id": "6bc4a429",
   "metadata": {},
   "source": [
    "#### A acurácia (qualidade) do modelo aumentou para"
   ]
  },
  {
   "cell_type": "code",
   "execution_count": 428,
   "id": "e08e6195",
   "metadata": {},
   "outputs": [
    {
     "data": {
      "text/plain": [
       "0.8731530028598665"
      ]
     },
     "execution_count": 428,
     "metadata": {},
     "output_type": "execute_result"
    }
   ],
   "source": [
    "\n",
    "taxa_acerto2 = accuracy_score(y2_test, previsoes2)\n",
    "taxa_acerto2"
   ]
  },
  {
   "cell_type": "markdown",
   "id": "60a9ed48",
   "metadata": {},
   "source": [
    "<kbd>resposta:Acima de 85% </kbd>"
   ]
  }
 ],
 "metadata": {
  "kernelspec": {
   "display_name": "Python 3 (ipykernel)",
   "language": "python",
   "name": "python3"
  },
  "language_info": {
   "codemirror_mode": {
    "name": "ipython",
    "version": 3
   },
   "file_extension": ".py",
   "mimetype": "text/x-python",
   "name": "python",
   "nbconvert_exporter": "python",
   "pygments_lexer": "ipython3",
   "version": "3.9.12"
  }
 },
 "nbformat": 4,
 "nbformat_minor": 5
}
