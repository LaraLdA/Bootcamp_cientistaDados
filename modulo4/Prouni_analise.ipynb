{
 "cells": [
  {
   "cell_type": "markdown",
   "id": "abb1af7d",
   "metadata": {},
   "source": [
    "### Análise das bolsas do prouni de 2015 a 2019"
   ]
  },
  {
   "cell_type": "code",
   "execution_count": 1,
   "id": "980f22c2",
   "metadata": {},
   "outputs": [],
   "source": [
    "import numpy as np #biblioteca utilizada para trabalhar com vetores\n",
    "import pandas as pd #biblioteca para trabalhar com dataframes (planilhas excel)"
   ]
  },
  {
   "cell_type": "code",
   "execution_count": 95,
   "id": "a916f8a5",
   "metadata": {},
   "outputs": [],
   "source": [
    "data2  = pd.read_excel('prouni-2019-2015.xlsx')"
   ]
  },
  {
   "cell_type": "code",
   "execution_count": 98,
   "id": "c7b23cb3",
   "metadata": {},
   "outputs": [
    {
     "data": {
      "text/html": [
       "<div>\n",
       "<style scoped>\n",
       "    .dataframe tbody tr th:only-of-type {\n",
       "        vertical-align: middle;\n",
       "    }\n",
       "\n",
       "    .dataframe tbody tr th {\n",
       "        vertical-align: top;\n",
       "    }\n",
       "\n",
       "    .dataframe thead th {\n",
       "        text-align: right;\n",
       "    }\n",
       "</style>\n",
       "<table border=\"1\" class=\"dataframe\">\n",
       "  <thead>\n",
       "    <tr style=\"text-align: right;\">\n",
       "      <th></th>\n",
       "      <th>ANO_CONCESSAO_BOLSA</th>\n",
       "      <th>CODIGO_EMEC_IES_BOLSA</th>\n",
       "      <th>NOME_IES_BOLSA</th>\n",
       "      <th>TIPO_BOLSA</th>\n",
       "      <th>MODALIDADE_ENSINO_BOLSA</th>\n",
       "      <th>NOME_CURSO_BOLSA</th>\n",
       "      <th>NOME_TURNO_CURSO_BOLSA</th>\n",
       "      <th>SEXO_BENEFICIARIO_BOLSA</th>\n",
       "      <th>RACA_BENEFICIARIO_BOLSA</th>\n",
       "      <th>DT_NASCIMENTO_BENEFICIARIO</th>\n",
       "      <th>IDADE</th>\n",
       "      <th>BENEFICIARIO_DEFICIENTE_FISICO</th>\n",
       "      <th>REGIAO_BENEFICIARIO_BOLSA</th>\n",
       "      <th>SIGLA_UF_BENEFICIARIO_BOLSA</th>\n",
       "      <th>QTD_BOLSA</th>\n",
       "    </tr>\n",
       "  </thead>\n",
       "  <tbody>\n",
       "    <tr>\n",
       "      <th>1048570</th>\n",
       "      <td>2015</td>\n",
       "      <td>417</td>\n",
       "      <td>UNIVERSIDADE CIDADE DE SÃO PAULO</td>\n",
       "      <td>BOLSA INTEGRAL</td>\n",
       "      <td>PRESENCIAL</td>\n",
       "      <td>Logística</td>\n",
       "      <td>Noturno</td>\n",
       "      <td>M</td>\n",
       "      <td>Parda</td>\n",
       "      <td>1990-10-08</td>\n",
       "      <td>25</td>\n",
       "      <td>NÃO</td>\n",
       "      <td>SUDESTE</td>\n",
       "      <td>SP</td>\n",
       "      <td>1</td>\n",
       "    </tr>\n",
       "    <tr>\n",
       "      <th>1048571</th>\n",
       "      <td>2015</td>\n",
       "      <td>417</td>\n",
       "      <td>UNIVERSIDADE CIDADE DE SÃO PAULO</td>\n",
       "      <td>BOLSA INTEGRAL</td>\n",
       "      <td>PRESENCIAL</td>\n",
       "      <td>Logística</td>\n",
       "      <td>Noturno</td>\n",
       "      <td>M</td>\n",
       "      <td>Parda</td>\n",
       "      <td>1994-04-27</td>\n",
       "      <td>21</td>\n",
       "      <td>SIM</td>\n",
       "      <td>SUDESTE</td>\n",
       "      <td>SP</td>\n",
       "      <td>1</td>\n",
       "    </tr>\n",
       "    <tr>\n",
       "      <th>1048572</th>\n",
       "      <td>2015</td>\n",
       "      <td>417</td>\n",
       "      <td>UNIVERSIDADE CIDADE DE SÃO PAULO</td>\n",
       "      <td>BOLSA PARCIAL 50%</td>\n",
       "      <td>PRESENCIAL</td>\n",
       "      <td>Logística</td>\n",
       "      <td>Noturno</td>\n",
       "      <td>F</td>\n",
       "      <td>Branca</td>\n",
       "      <td>1997-04-15</td>\n",
       "      <td>18</td>\n",
       "      <td>NÃO</td>\n",
       "      <td>SUDESTE</td>\n",
       "      <td>SP</td>\n",
       "      <td>1</td>\n",
       "    </tr>\n",
       "    <tr>\n",
       "      <th>1048573</th>\n",
       "      <td>2015</td>\n",
       "      <td>4000</td>\n",
       "      <td>FACULDADE DE ENSINO SUPERIOR DO INTERIOR PAULISTA</td>\n",
       "      <td>BOLSA INTEGRAL</td>\n",
       "      <td>PRESENCIAL</td>\n",
       "      <td>Administração</td>\n",
       "      <td>Matutino</td>\n",
       "      <td>M</td>\n",
       "      <td>Parda</td>\n",
       "      <td>1997-04-16</td>\n",
       "      <td>18</td>\n",
       "      <td>NÃO</td>\n",
       "      <td>SUDESTE</td>\n",
       "      <td>SP</td>\n",
       "      <td>1</td>\n",
       "    </tr>\n",
       "    <tr>\n",
       "      <th>1048574</th>\n",
       "      <td>2015</td>\n",
       "      <td>4000</td>\n",
       "      <td>FACULDADE DE ENSINO SUPERIOR DO INTERIOR PAULISTA</td>\n",
       "      <td>BOLSA INTEGRAL</td>\n",
       "      <td>PRESENCIAL</td>\n",
       "      <td>Administração</td>\n",
       "      <td>Matutino</td>\n",
       "      <td>M</td>\n",
       "      <td>Preta</td>\n",
       "      <td>1982-08-13</td>\n",
       "      <td>33</td>\n",
       "      <td>NÃO</td>\n",
       "      <td>SUDESTE</td>\n",
       "      <td>SP</td>\n",
       "      <td>1</td>\n",
       "    </tr>\n",
       "  </tbody>\n",
       "</table>\n",
       "</div>"
      ],
      "text/plain": [
       "         ANO_CONCESSAO_BOLSA  CODIGO_EMEC_IES_BOLSA  \\\n",
       "1048570                 2015                    417   \n",
       "1048571                 2015                    417   \n",
       "1048572                 2015                    417   \n",
       "1048573                 2015                   4000   \n",
       "1048574                 2015                   4000   \n",
       "\n",
       "                                            NOME_IES_BOLSA         TIPO_BOLSA  \\\n",
       "1048570                   UNIVERSIDADE CIDADE DE SÃO PAULO     BOLSA INTEGRAL   \n",
       "1048571                   UNIVERSIDADE CIDADE DE SÃO PAULO     BOLSA INTEGRAL   \n",
       "1048572                   UNIVERSIDADE CIDADE DE SÃO PAULO  BOLSA PARCIAL 50%   \n",
       "1048573  FACULDADE DE ENSINO SUPERIOR DO INTERIOR PAULISTA     BOLSA INTEGRAL   \n",
       "1048574  FACULDADE DE ENSINO SUPERIOR DO INTERIOR PAULISTA     BOLSA INTEGRAL   \n",
       "\n",
       "        MODALIDADE_ENSINO_BOLSA NOME_CURSO_BOLSA NOME_TURNO_CURSO_BOLSA  \\\n",
       "1048570              PRESENCIAL        Logística                Noturno   \n",
       "1048571              PRESENCIAL        Logística                Noturno   \n",
       "1048572              PRESENCIAL        Logística                Noturno   \n",
       "1048573              PRESENCIAL    Administração               Matutino   \n",
       "1048574              PRESENCIAL    Administração               Matutino   \n",
       "\n",
       "        SEXO_BENEFICIARIO_BOLSA RACA_BENEFICIARIO_BOLSA  \\\n",
       "1048570                       M                   Parda   \n",
       "1048571                       M                   Parda   \n",
       "1048572                       F                  Branca   \n",
       "1048573                       M                   Parda   \n",
       "1048574                       M                   Preta   \n",
       "\n",
       "        DT_NASCIMENTO_BENEFICIARIO  IDADE BENEFICIARIO_DEFICIENTE_FISICO  \\\n",
       "1048570                 1990-10-08     25                            NÃO   \n",
       "1048571                 1994-04-27     21                            SIM   \n",
       "1048572                 1997-04-15     18                            NÃO   \n",
       "1048573                 1997-04-16     18                            NÃO   \n",
       "1048574                 1982-08-13     33                            NÃO   \n",
       "\n",
       "        REGIAO_BENEFICIARIO_BOLSA SIGLA_UF_BENEFICIARIO_BOLSA  QTD_BOLSA  \n",
       "1048570                   SUDESTE                          SP          1  \n",
       "1048571                   SUDESTE                          SP          1  \n",
       "1048572                   SUDESTE                          SP          1  \n",
       "1048573                   SUDESTE                          SP          1  \n",
       "1048574                   SUDESTE                          SP          1  "
      ]
     },
     "execution_count": 98,
     "metadata": {},
     "output_type": "execute_result"
    }
   ],
   "source": [
    "data2.tail(5)"
   ]
  },
  {
   "cell_type": "markdown",
   "id": "ba857fe5",
   "metadata": {},
   "source": [
    "#### Entendendo os dados:\n"
   ]
  },
  {
   "cell_type": "code",
   "execution_count": 139,
   "id": "0deaa32e",
   "metadata": {},
   "outputs": [
    {
     "data": {
      "text/plain": [
       "1048575"
      ]
     },
     "execution_count": 139,
     "metadata": {},
     "output_type": "execute_result"
    }
   ],
   "source": [
    "len(data2.index)"
   ]
  },
  {
   "cell_type": "code",
   "execution_count": 99,
   "id": "ed958c63",
   "metadata": {},
   "outputs": [
    {
     "name": "stdout",
     "output_type": "stream",
     "text": [
      "ANO_CONCESSAO_BOLSA                   5\n",
      "CODIGO_EMEC_IES_BOLSA              1564\n",
      "NOME_IES_BOLSA                     1866\n",
      "TIPO_BOLSA                            2\n",
      "MODALIDADE_ENSINO_BOLSA               3\n",
      "NOME_CURSO_BOLSA                   2300\n",
      "NOME_TURNO_CURSO_BOLSA                5\n",
      "SEXO_BENEFICIARIO_BOLSA               2\n",
      "RACA_BENEFICIARIO_BOLSA               6\n",
      "DT_NASCIMENTO_BENEFICIARIO        16066\n",
      "IDADE                                67\n",
      "BENEFICIARIO_DEFICIENTE_FISICO        2\n",
      "REGIAO_BENEFICIARIO_BOLSA            10\n",
      "SIGLA_UF_BENEFICIARIO_BOLSA          27\n",
      "QTD_BOLSA                             1\n",
      "dtype: int64\n",
      "-------NULL VALUES PER FEATURE-------\n",
      "ANO_CONCESSAO_BOLSA                0\n",
      "CODIGO_EMEC_IES_BOLSA              0\n",
      "NOME_IES_BOLSA                     0\n",
      "TIPO_BOLSA                         0\n",
      "MODALIDADE_ENSINO_BOLSA            0\n",
      "NOME_CURSO_BOLSA                  91\n",
      "NOME_TURNO_CURSO_BOLSA             0\n",
      "SEXO_BENEFICIARIO_BOLSA            0\n",
      "RACA_BENEFICIARIO_BOLSA            0\n",
      "DT_NASCIMENTO_BENEFICIARIO         0\n",
      "IDADE                              0\n",
      "BENEFICIARIO_DEFICIENTE_FISICO     0\n",
      "REGIAO_BENEFICIARIO_BOLSA         12\n",
      "SIGLA_UF_BENEFICIARIO_BOLSA       12\n",
      "QTD_BOLSA                          0\n",
      "dtype: int64\n"
     ]
    }
   ],
   "source": [
    "print(data2.nunique())\n",
    "print('-------NULL VALUES PER FEATURE-------')\n",
    "print(data2.isnull().sum())"
   ]
  },
  {
   "cell_type": "code",
   "execution_count": 100,
   "id": "a441be47",
   "metadata": {
    "scrolled": true
   },
   "outputs": [
    {
     "data": {
      "text/plain": [
       "array(['EAD', 'Presencial', 'PRESENCIAL'], dtype='<U10')"
      ]
     },
     "execution_count": 100,
     "metadata": {},
     "output_type": "execute_result"
    }
   ],
   "source": [
    "unicos = data2['MODALIDADE_ENSINO_BOLSA'].unique()\n",
    "modalidades=unicos.astype(str)\n",
    "modalidades"
   ]
  },
  {
   "cell_type": "code",
   "execution_count": 101,
   "id": "3a5d8ef7",
   "metadata": {},
   "outputs": [
    {
     "data": {
      "text/plain": [
       "array(['M', 'F'], dtype='<U1')"
      ]
     },
     "execution_count": 101,
     "metadata": {},
     "output_type": "execute_result"
    }
   ],
   "source": [
    "unicos2 = data2['SEXO_BENEFICIARIO_BOLSA'].unique()\n",
    "sexo=unicos2.astype(str)\n",
    "sexo"
   ]
  },
  {
   "cell_type": "code",
   "execution_count": 102,
   "id": "17152bf3",
   "metadata": {},
   "outputs": [
    {
     "data": {
      "text/plain": [
       "array(['Branca', 'Parda', 'Preta', 'Amarela', 'Indígena', 'Não Informada'],\n",
       "      dtype='<U13')"
      ]
     },
     "execution_count": 102,
     "metadata": {},
     "output_type": "execute_result"
    }
   ],
   "source": [
    "unicos3 = data2['RACA_BENEFICIARIO_BOLSA'].unique()\n",
    "raca=unicos3.astype(str)\n",
    "raca"
   ]
  },
  {
   "cell_type": "code",
   "execution_count": 159,
   "id": "ea932e14",
   "metadata": {},
   "outputs": [
    {
     "data": {
      "text/plain": [
       "1866"
      ]
     },
     "execution_count": 159,
     "metadata": {},
     "output_type": "execute_result"
    }
   ],
   "source": [
    "unicos4 = data2['NOME_IES_BOLSA'].unique()\n",
    "facul=unicos4.astype(str)\n",
    "len(facul) # quantidade de faculdades"
   ]
  },
  {
   "cell_type": "code",
   "execution_count": 119,
   "id": "7f0d2e31",
   "metadata": {},
   "outputs": [
    {
     "data": {
      "text/plain": [
       "Presencial    526404\n",
       "PRESENCIAL    277455\n",
       "EAD           244716\n",
       "Name: MODALIDADE_ENSINO_BOLSA, dtype: int64"
      ]
     },
     "execution_count": 119,
     "metadata": {},
     "output_type": "execute_result"
    }
   ],
   "source": [
    "data2['MODALIDADE_ENSINO_BOLSA'].value_counts()"
   ]
  },
  {
   "cell_type": "markdown",
   "id": "9a5239f2",
   "metadata": {},
   "source": [
    "**Ou seja, existem duas modalidades de \"presencial\" que devem ser unidas**"
   ]
  },
  {
   "cell_type": "code",
   "execution_count": 106,
   "id": "3b63fba6",
   "metadata": {},
   "outputs": [],
   "source": [
    "df = data2.copy() #cópia para trabalhar"
   ]
  },
  {
   "cell_type": "code",
   "execution_count": 107,
   "id": "a78e3f3d",
   "metadata": {},
   "outputs": [
    {
     "data": {
      "text/html": [
       "<div>\n",
       "<style scoped>\n",
       "    .dataframe tbody tr th:only-of-type {\n",
       "        vertical-align: middle;\n",
       "    }\n",
       "\n",
       "    .dataframe tbody tr th {\n",
       "        vertical-align: top;\n",
       "    }\n",
       "\n",
       "    .dataframe thead th {\n",
       "        text-align: right;\n",
       "    }\n",
       "</style>\n",
       "<table border=\"1\" class=\"dataframe\">\n",
       "  <thead>\n",
       "    <tr style=\"text-align: right;\">\n",
       "      <th></th>\n",
       "      <th>ANO_CONCESSAO_BOLSA</th>\n",
       "      <th>CODIGO_EMEC_IES_BOLSA</th>\n",
       "      <th>NOME_IES_BOLSA</th>\n",
       "      <th>TIPO_BOLSA</th>\n",
       "      <th>MODALIDADE_ENSINO_BOLSA</th>\n",
       "      <th>NOME_CURSO_BOLSA</th>\n",
       "      <th>NOME_TURNO_CURSO_BOLSA</th>\n",
       "      <th>SEXO_BENEFICIARIO_BOLSA</th>\n",
       "      <th>RACA_BENEFICIARIO_BOLSA</th>\n",
       "      <th>DT_NASCIMENTO_BENEFICIARIO</th>\n",
       "      <th>IDADE</th>\n",
       "      <th>BENEFICIARIO_DEFICIENTE_FISICO</th>\n",
       "      <th>REGIAO_BENEFICIARIO_BOLSA</th>\n",
       "      <th>SIGLA_UF_BENEFICIARIO_BOLSA</th>\n",
       "      <th>QTD_BOLSA</th>\n",
       "    </tr>\n",
       "  </thead>\n",
       "  <tbody>\n",
       "    <tr>\n",
       "      <th>0</th>\n",
       "      <td>2019</td>\n",
       "      <td>10</td>\n",
       "      <td>PONTIFÍCIA UNIVERSIDADE CATÓLICA DO PARANÁ</td>\n",
       "      <td>BOLSA INTEGRAL</td>\n",
       "      <td>EAD</td>\n",
       "      <td>Administração</td>\n",
       "      <td>Curso a distância</td>\n",
       "      <td>M</td>\n",
       "      <td>Branca</td>\n",
       "      <td>1993-08-19</td>\n",
       "      <td>26</td>\n",
       "      <td>NÃO</td>\n",
       "      <td>Sul</td>\n",
       "      <td>PR</td>\n",
       "      <td>1</td>\n",
       "    </tr>\n",
       "    <tr>\n",
       "      <th>1</th>\n",
       "      <td>2019</td>\n",
       "      <td>10</td>\n",
       "      <td>PONTIFÍCIA UNIVERSIDADE CATÓLICA DO PARANÁ</td>\n",
       "      <td>BOLSA INTEGRAL</td>\n",
       "      <td>EAD</td>\n",
       "      <td>Administração</td>\n",
       "      <td>Curso a distância</td>\n",
       "      <td>F</td>\n",
       "      <td>Branca</td>\n",
       "      <td>1999-11-03</td>\n",
       "      <td>20</td>\n",
       "      <td>NÃO</td>\n",
       "      <td>Sul</td>\n",
       "      <td>PR</td>\n",
       "      <td>1</td>\n",
       "    </tr>\n",
       "    <tr>\n",
       "      <th>2</th>\n",
       "      <td>2019</td>\n",
       "      <td>10</td>\n",
       "      <td>PONTIFÍCIA UNIVERSIDADE CATÓLICA DO PARANÁ</td>\n",
       "      <td>BOLSA INTEGRAL</td>\n",
       "      <td>EAD</td>\n",
       "      <td>Análise E Desenvolvimento De Sistemas</td>\n",
       "      <td>Curso a distância</td>\n",
       "      <td>M</td>\n",
       "      <td>Parda</td>\n",
       "      <td>1999-04-02</td>\n",
       "      <td>20</td>\n",
       "      <td>NÃO</td>\n",
       "      <td>Sul</td>\n",
       "      <td>PR</td>\n",
       "      <td>1</td>\n",
       "    </tr>\n",
       "    <tr>\n",
       "      <th>3</th>\n",
       "      <td>2019</td>\n",
       "      <td>10</td>\n",
       "      <td>PONTIFÍCIA UNIVERSIDADE CATÓLICA DO PARANÁ</td>\n",
       "      <td>BOLSA INTEGRAL</td>\n",
       "      <td>EAD</td>\n",
       "      <td>Análise E Desenvolvimento De Sistemas</td>\n",
       "      <td>Curso a distância</td>\n",
       "      <td>M</td>\n",
       "      <td>Branca</td>\n",
       "      <td>2000-03-15</td>\n",
       "      <td>19</td>\n",
       "      <td>NÃO</td>\n",
       "      <td>Sul</td>\n",
       "      <td>PR</td>\n",
       "      <td>1</td>\n",
       "    </tr>\n",
       "    <tr>\n",
       "      <th>4</th>\n",
       "      <td>2019</td>\n",
       "      <td>10</td>\n",
       "      <td>PONTIFÍCIA UNIVERSIDADE CATÓLICA DO PARANÁ</td>\n",
       "      <td>BOLSA INTEGRAL</td>\n",
       "      <td>EAD</td>\n",
       "      <td>Análise E Desenvolvimento De Sistemas</td>\n",
       "      <td>Curso a distância</td>\n",
       "      <td>M</td>\n",
       "      <td>Branca</td>\n",
       "      <td>1993-05-23</td>\n",
       "      <td>26</td>\n",
       "      <td>NÃO</td>\n",
       "      <td>Sul</td>\n",
       "      <td>PR</td>\n",
       "      <td>1</td>\n",
       "    </tr>\n",
       "  </tbody>\n",
       "</table>\n",
       "</div>"
      ],
      "text/plain": [
       "   ANO_CONCESSAO_BOLSA  CODIGO_EMEC_IES_BOLSA  \\\n",
       "0                 2019                     10   \n",
       "1                 2019                     10   \n",
       "2                 2019                     10   \n",
       "3                 2019                     10   \n",
       "4                 2019                     10   \n",
       "\n",
       "                               NOME_IES_BOLSA      TIPO_BOLSA  \\\n",
       "0  PONTIFÍCIA UNIVERSIDADE CATÓLICA DO PARANÁ  BOLSA INTEGRAL   \n",
       "1  PONTIFÍCIA UNIVERSIDADE CATÓLICA DO PARANÁ  BOLSA INTEGRAL   \n",
       "2  PONTIFÍCIA UNIVERSIDADE CATÓLICA DO PARANÁ  BOLSA INTEGRAL   \n",
       "3  PONTIFÍCIA UNIVERSIDADE CATÓLICA DO PARANÁ  BOLSA INTEGRAL   \n",
       "4  PONTIFÍCIA UNIVERSIDADE CATÓLICA DO PARANÁ  BOLSA INTEGRAL   \n",
       "\n",
       "  MODALIDADE_ENSINO_BOLSA                       NOME_CURSO_BOLSA  \\\n",
       "0                     EAD                          Administração   \n",
       "1                     EAD                          Administração   \n",
       "2                     EAD  Análise E Desenvolvimento De Sistemas   \n",
       "3                     EAD  Análise E Desenvolvimento De Sistemas   \n",
       "4                     EAD  Análise E Desenvolvimento De Sistemas   \n",
       "\n",
       "  NOME_TURNO_CURSO_BOLSA SEXO_BENEFICIARIO_BOLSA RACA_BENEFICIARIO_BOLSA  \\\n",
       "0      Curso a distância                       M                  Branca   \n",
       "1      Curso a distância                       F                  Branca   \n",
       "2      Curso a distância                       M                   Parda   \n",
       "3      Curso a distância                       M                  Branca   \n",
       "4      Curso a distância                       M                  Branca   \n",
       "\n",
       "  DT_NASCIMENTO_BENEFICIARIO  IDADE BENEFICIARIO_DEFICIENTE_FISICO  \\\n",
       "0                 1993-08-19     26                            NÃO   \n",
       "1                 1999-11-03     20                            NÃO   \n",
       "2                 1999-04-02     20                            NÃO   \n",
       "3                 2000-03-15     19                            NÃO   \n",
       "4                 1993-05-23     26                            NÃO   \n",
       "\n",
       "  REGIAO_BENEFICIARIO_BOLSA SIGLA_UF_BENEFICIARIO_BOLSA  QTD_BOLSA  \n",
       "0                       Sul                          PR          1  \n",
       "1                       Sul                          PR          1  \n",
       "2                       Sul                          PR          1  \n",
       "3                       Sul                          PR          1  \n",
       "4                       Sul                          PR          1  "
      ]
     },
     "execution_count": 107,
     "metadata": {},
     "output_type": "execute_result"
    }
   ],
   "source": [
    "df.head()"
   ]
  },
  {
   "cell_type": "code",
   "execution_count": 108,
   "id": "b5cd89dd",
   "metadata": {},
   "outputs": [
    {
     "data": {
      "text/plain": [
       "Presencial    526404\n",
       "PRESENCIAL    277455\n",
       "EAD           244716\n",
       "Name: MODALIDADE_ENSINO_BOLSA, dtype: int64"
      ]
     },
     "execution_count": 108,
     "metadata": {},
     "output_type": "execute_result"
    }
   ],
   "source": [
    "df['MODALIDADE_ENSINO_BOLSA'].value_counts()"
   ]
  },
  {
   "cell_type": "code",
   "execution_count": 109,
   "id": "b0e0774d",
   "metadata": {},
   "outputs": [],
   "source": [
    "#substituindo \"PRESENCIAL\" por \"presencial\"\n",
    "df['MODALIDADE_ENSINO_BOLSA']=df['MODALIDADE_ENSINO_BOLSA'].replace(['PRESENCIAL'], ['Presencial'])"
   ]
  },
  {
   "cell_type": "code",
   "execution_count": 110,
   "id": "945ad213",
   "metadata": {},
   "outputs": [
    {
     "data": {
      "text/plain": [
       "Presencial    803859\n",
       "EAD           244716\n",
       "Name: MODALIDADE_ENSINO_BOLSA, dtype: int64"
      ]
     },
     "execution_count": 110,
     "metadata": {},
     "output_type": "execute_result"
    }
   ],
   "source": [
    "df['MODALIDADE_ENSINO_BOLSA'].value_counts()"
   ]
  },
  {
   "cell_type": "code",
   "execution_count": 111,
   "id": "bc28a92e",
   "metadata": {},
   "outputs": [
    {
     "name": "stdout",
     "output_type": "stream",
     "text": [
      "ANO_CONCESSAO_BOLSA                   5\n",
      "CODIGO_EMEC_IES_BOLSA              1564\n",
      "NOME_IES_BOLSA                     1866\n",
      "TIPO_BOLSA                            2\n",
      "MODALIDADE_ENSINO_BOLSA               2\n",
      "NOME_CURSO_BOLSA                   2300\n",
      "NOME_TURNO_CURSO_BOLSA                5\n",
      "SEXO_BENEFICIARIO_BOLSA               2\n",
      "RACA_BENEFICIARIO_BOLSA               6\n",
      "DT_NASCIMENTO_BENEFICIARIO        16066\n",
      "IDADE                                67\n",
      "BENEFICIARIO_DEFICIENTE_FISICO        2\n",
      "REGIAO_BENEFICIARIO_BOLSA            10\n",
      "SIGLA_UF_BENEFICIARIO_BOLSA          27\n",
      "QTD_BOLSA                             1\n",
      "dtype: int64\n",
      "-------NULL VALUES PER FEATURE-------\n",
      "ANO_CONCESSAO_BOLSA                0\n",
      "CODIGO_EMEC_IES_BOLSA              0\n",
      "NOME_IES_BOLSA                     0\n",
      "TIPO_BOLSA                         0\n",
      "MODALIDADE_ENSINO_BOLSA            0\n",
      "NOME_CURSO_BOLSA                  91\n",
      "NOME_TURNO_CURSO_BOLSA             0\n",
      "SEXO_BENEFICIARIO_BOLSA            0\n",
      "RACA_BENEFICIARIO_BOLSA            0\n",
      "DT_NASCIMENTO_BENEFICIARIO         0\n",
      "IDADE                              0\n",
      "BENEFICIARIO_DEFICIENTE_FISICO     0\n",
      "REGIAO_BENEFICIARIO_BOLSA         12\n",
      "SIGLA_UF_BENEFICIARIO_BOLSA       12\n",
      "QTD_BOLSA                          0\n",
      "dtype: int64\n"
     ]
    }
   ],
   "source": [
    "#verificando as mudanças\n",
    "print(df.nunique())\n",
    "print('-------NULL VALUES PER FEATURE-------')\n",
    "print(df.isnull().sum())"
   ]
  },
  {
   "cell_type": "markdown",
   "id": "6714e1d8",
   "metadata": {},
   "source": [
    "#### 1. Qual o total de bolsas de estudos do ProUni distribuídas na Modalidade EAD?"
   ]
  },
  {
   "cell_type": "code",
   "execution_count": 112,
   "id": "e9b6beeb",
   "metadata": {},
   "outputs": [
    {
     "data": {
      "text/plain": [
       "False    803859\n",
       "True     244716\n",
       "Name: MODALIDADE_ENSINO_BOLSA, dtype: int64"
      ]
     },
     "execution_count": 112,
     "metadata": {},
     "output_type": "execute_result"
    }
   ],
   "source": [
    "\n",
    "(df['MODALIDADE_ENSINO_BOLSA'] == \"EAD\").value_counts()"
   ]
  },
  {
   "cell_type": "markdown",
   "id": "2cda586d",
   "metadata": {},
   "source": [
    "#### 2.Qual o total de bolsas de estudos do ProUni distribuídas na Modalidade EAD no ano de 2017?"
   ]
  },
  {
   "cell_type": "code",
   "execution_count": 113,
   "id": "c1b61a0d",
   "metadata": {},
   "outputs": [],
   "source": [
    "test = np.where((df.ANO_CONCESSAO_BOLSA==2017) & (df.MODALIDADE_ENSINO_BOLSA== \"EAD\"))\n",
    "nova_tabela=df.iloc[test]"
   ]
  },
  {
   "cell_type": "code",
   "execution_count": 114,
   "id": "961cf93c",
   "metadata": {},
   "outputs": [
    {
     "data": {
      "text/plain": [
       "52239"
      ]
     },
     "execution_count": 114,
     "metadata": {},
     "output_type": "execute_result"
    }
   ],
   "source": [
    "len(nova_tabela)"
   ]
  },
  {
   "cell_type": "code",
   "execution_count": 323,
   "id": "a2ec0724",
   "metadata": {},
   "outputs": [
    {
     "data": {
      "text/plain": [
       "False    184397\n",
       "True      52239\n",
       "Name: MODALIDADE_ENSINO_BOLSA, dtype: int64"
      ]
     },
     "execution_count": 323,
     "metadata": {},
     "output_type": "execute_result"
    }
   ],
   
  },
  {
   "cell_type": "markdown",
   "id": "62fa5a5a",
   "metadata": {},
   "source": [
    "#### 3. Verdadeiro ou falso: \"As pessoas declaradas com o sexo Feminino receberam um número maior de bolsas do ProUni do que as do sexo Masculino\""
   ]
  },
  {
   "cell_type": "code",
   "execution_count": 117,
   "id": "bef8a804",
   "metadata": {},
   "outputs": [
    {
     "data": {
      "text/plain": [
       "F    585942\n",
       "M    462633\n",
       "Name: SEXO_BENEFICIARIO_BOLSA, dtype: int64"
      ]
     },
     "execution_count": 117,
     "metadata": {},
     "output_type": "execute_result"
    }
   ],
   "source": [
    "df['SEXO_BENEFICIARIO_BOLSA'].value_counts()"
   ]
  },
  {
   "cell_type": "markdown",
   "id": "bfd8fc8a",
   "metadata": {},
   "source": [
    "#### 4. Verdadeiro ou falso: “Na soma geral das bolsas do ProUni pela raça declarada, a Parda e a Preta superam o número de 610 mil concessões.”"
   ]
  },
  {
   "cell_type": "code",
   "execution_count": 325,
   "id": "35f60f57",
   "metadata": {},
   "outputs": [
    {
     "data": {
      "image/png": "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\n",
      "text/plain": [
       "<Figure size 792x576 with 1 Axes>"
      ]
     },
     "metadata": {},
     "output_type": "display_data"
    }
   ],
   "source": [
    "import seaborn as sns #biblioteca utilizada para criar gráficos mais \"bonitos\"\n",
    "sns.set(rc={'figure.figsize':(11,8)})\n",
    "sns.countplot(x='RACA_BENEFICIARIO_BOLSA', data=df);\n"
   ]
  },
  {
   "cell_type": "code",
   "execution_count": null,
   "id": "32cd6435",
   "metadata": {},
   "outputs": [],
   "source": [
    "df['NOME_IES_BOLSA'].value_counts()"
   ]
  },
  {
   "cell_type": "code",
   "execution_count": 122,
   "id": "c48f53f1",
   "metadata": {
    "scrolled": true
   },
   "outputs": [
    {
     "data": {
      "text/plain": [
       "Parda            480300\n",
       "Branca           413258\n",
       "Preta            135658\n",
       "Amarela           18333\n",
       "Indígena            858\n",
       "Não Informada       168\n",
       "Name: RACA_BENEFICIARIO_BOLSA, dtype: int64"
      ]
     },
     "execution_count": 122,
     "metadata": {},
     "output_type": "execute_result"
    }
   ],
   "source": [
    "df['RACA_BENEFICIARIO_BOLSA'].value_counts()"
   ]
  },
  {
   "cell_type": "code",
   "execution_count": 123,
   "id": "14dc58d7",
   "metadata": {},
   "outputs": [
    {
     "data": {
      "text/plain": [
       "615958"
      ]
     },
     "execution_count": 123,
     "metadata": {},
     "output_type": "execute_result"
    }
   ],
   "source": [
    "135658+480300"
   ]
  },
  {
   "cell_type": "markdown",
   "id": "1b8f340a",
   "metadata": {},
   "source": [
    "VERDADEIRO"
   ]
  },
  {
   "cell_type": "markdown",
   "id": "8371567c",
   "metadata": {},
   "source": [
    "#### 5.Verdadeiro ou falso:“Na soma geral das bolsas do ProUni por Região, a Nordeste recebeu menos da metade das bolsas concedidas para a região Sudeste.”"
   ]
  },
  {
   "cell_type": "code",
   "execution_count": 124,
   "id": "1d7b3dda",
   "metadata": {},
   "outputs": [
    {
     "data": {
      "text/plain": [
       "array(['Sul', 'Nordeste', 'Sudeste', 'Norte', 'Centro-Oeste', 'SUL',\n",
       "       'NORDESTE', 'SUDESTE', 'CENTRO-OESTE', 'NORTE', nan], dtype=object)"
      ]
     },
     "execution_count": 124,
     "metadata": {},
     "output_type": "execute_result"
    }
   ],
   "source": [
    "unicos = df['REGIAO_BENEFICIARIO_BOLSA'].unique()\n",
    "unicos"
   ]
  },
  {
   "cell_type": "code",
   "execution_count": 128,
   "id": "2c0c8a32",
   "metadata": {},
   "outputs": [],
   "source": [
    "# substituindo \n",
    "df['REGIAO_BENEFICIARIO_BOLSA']=df['REGIAO_BENEFICIARIO_BOLSA'].replace(['Sul','Nordeste', 'Sudeste','Centro-Oeste','Norte'],['SUL', 'NORDESTE', 'SUDESTE','CENTRO-OESTE','NORTE'])"
   ]
  },
  {
   "cell_type": "code",
   "execution_count": 129,
   "id": "1aae7426",
   "metadata": {},
   "outputs": [
    {
     "data": {
      "text/plain": [
       "SUDESTE         467973\n",
       "NORDESTE        218457\n",
       "SUL             183887\n",
       "CENTRO-OESTE     96651\n",
       "NORTE            81595\n",
       "Name: REGIAO_BENEFICIARIO_BOLSA, dtype: int64"
      ]
     },
     "execution_count": 129,
     "metadata": {},
     "output_type": "execute_result"
    }
   ],
   "source": [
    "df['REGIAO_BENEFICIARIO_BOLSA'].value_counts()"
   ]
  },
  {
   "cell_type": "code",
   "execution_count": 74,
   "id": "0ad7696d",
   "metadata": {
    "scrolled": true
   },
   "outputs": [
    {
     "data": {
      "text/plain": [
       "233986.5"
      ]
     },
     "execution_count": 74,
     "metadata": {},
     "output_type": "execute_result"
    }
   ],
   "source": [
    "467973/2"
   ]
  },
  {
   "cell_type": "markdown",
   "id": "ce138395",
   "metadata": {},
   "source": [
    "VERDADEIRO, abaixo o gráfico:"
   ]
  },
  {
   "cell_type": "code",
   "execution_count": 134,
   "id": "a2a08591",
   "metadata": {},
   "outputs": [],
   "source": [
    "import matplotlib.pyplot as plt"
   ]
  },
  {
   "cell_type": "code",
   "execution_count": 136,
   "id": "24facf74",
   "metadata": {},
   "outputs": [
    {
     "data": {
      "text/plain": [
       "<matplotlib.lines.Line2D at 0x165312e6fa0>"
      ]
     },
     "execution_count": 136,
     "metadata": {},
     "output_type": "execute_result"
    },
    {
     "data": {
      "image/png": "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\n",
      "text/plain": [
       "<Figure size 792x576 with 1 Axes>"
      ]
     },
     "metadata": {},
     "output_type": "display_data"
    }
   ],
   "source": [
    "sns.set(rc={'figure.figsize':(11,8)})\n",
    "sns.countplot(x='REGIAO_BENEFICIARIO_BOLSA', data=df);\n",
    "plt.axhline(233986.5, color='k') #linha na metade\n"
   ]
  },
  {
   "cell_type": "markdown",
   "id": "520a5561",
   "metadata": {},
   "source": [
    "#### 6. Verdadeiro ou falso: “Analisando os dados percebe-se que o número de bolsas Presencial continua crescendo frente às bolsas concedidas para os cursos na modalidade EaD.”"
   ]
  },
  {
   "cell_type": "code",
   "execution_count": 140,
   "id": "190b0fe0",
   "metadata": {},
   "outputs": [
    {
     "data": {
      "text/html": [
       "<div>\n",
       "<style scoped>\n",
       "    .dataframe tbody tr th:only-of-type {\n",
       "        vertical-align: middle;\n",
       "    }\n",
       "\n",
       "    .dataframe tbody tr th {\n",
       "        vertical-align: top;\n",
       "    }\n",
       "\n",
       "    .dataframe thead th {\n",
       "        text-align: right;\n",
       "    }\n",
       "</style>\n",
       "<table border=\"1\" class=\"dataframe\">\n",
       "  <thead>\n",
       "    <tr style=\"text-align: right;\">\n",
       "      <th></th>\n",
       "      <th>ANO_CONCESSAO_BOLSA</th>\n",
       "      <th>MODALIDADE_ENSINO_BOLSA</th>\n",
       "    </tr>\n",
       "  </thead>\n",
       "  <tbody>\n",
       "    <tr>\n",
       "      <th>0</th>\n",
       "      <td>2019</td>\n",
       "      <td>EAD</td>\n",
       "    </tr>\n",
       "    <tr>\n",
       "      <th>1</th>\n",
       "      <td>2019</td>\n",
       "      <td>EAD</td>\n",
       "    </tr>\n",
       "    <tr>\n",
       "      <th>2</th>\n",
       "      <td>2019</td>\n",
       "      <td>EAD</td>\n",
       "    </tr>\n",
       "    <tr>\n",
       "      <th>3</th>\n",
       "      <td>2019</td>\n",
       "      <td>EAD</td>\n",
       "    </tr>\n",
       "    <tr>\n",
       "      <th>4</th>\n",
       "      <td>2019</td>\n",
       "      <td>EAD</td>\n",
       "    </tr>\n",
       "    <tr>\n",
       "      <th>...</th>\n",
       "      <td>...</td>\n",
       "      <td>...</td>\n",
       "    </tr>\n",
       "    <tr>\n",
       "      <th>1048570</th>\n",
       "      <td>2015</td>\n",
       "      <td>Presencial</td>\n",
       "    </tr>\n",
       "    <tr>\n",
       "      <th>1048571</th>\n",
       "      <td>2015</td>\n",
       "      <td>Presencial</td>\n",
       "    </tr>\n",
       "    <tr>\n",
       "      <th>1048572</th>\n",
       "      <td>2015</td>\n",
       "      <td>Presencial</td>\n",
       "    </tr>\n",
       "    <tr>\n",
       "      <th>1048573</th>\n",
       "      <td>2015</td>\n",
       "      <td>Presencial</td>\n",
       "    </tr>\n",
       "    <tr>\n",
       "      <th>1048574</th>\n",
       "      <td>2015</td>\n",
       "      <td>Presencial</td>\n",
       "    </tr>\n",
       "  </tbody>\n",
       "</table>\n",
       "<p>1048575 rows × 2 columns</p>\n",
       "</div>"
      ],
      "text/plain": [
       "         ANO_CONCESSAO_BOLSA MODALIDADE_ENSINO_BOLSA\n",
       "0                       2019                     EAD\n",
       "1                       2019                     EAD\n",
       "2                       2019                     EAD\n",
       "3                       2019                     EAD\n",
       "4                       2019                     EAD\n",
       "...                      ...                     ...\n",
       "1048570                 2015              Presencial\n",
       "1048571                 2015              Presencial\n",
       "1048572                 2015              Presencial\n",
       "1048573                 2015              Presencial\n",
       "1048574                 2015              Presencial\n",
       "\n",
       "[1048575 rows x 2 columns]"
      ]
     },
     "execution_count": 140,
     "metadata": {},
     "output_type": "execute_result"
    }
   ],
   "source": [
    "ano = df[['ANO_CONCESSAO_BOLSA','MODALIDADE_ENSINO_BOLSA']]\n",
    "ano"
   ]
  },
  {
   "cell_type": "code",
   "execution_count": 86,
   "id": "bfef7cda",
   "metadata": {},
   "outputs": [],
   "source": [
    "import matplotlib.pyplot as plt"
   ]
  },
  {
   "cell_type": "code",
   "execution_count": 326,
   "id": "628ffd5e",
   "metadata": {
    "scrolled": true
   },
   "outputs": [
    {
     "data": {
      "image/png": "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\n",
      "text/plain": [
       "<Figure size 792x576 with 1 Axes>"
      ]
     },
     "metadata": {},
     "output_type": "display_data"
    }
   ],
   "source": [
    "sns.countplot(data=ano, x='ANO_CONCESSAO_BOLSA', hue=\"MODALIDADE_ENSINO_BOLSA\")\n",
    "plt.legend (ncol = 1, loc= (1.03, 0.93))\n",
    "sns.set(rc={'figure.figsize':(11,10)})\n"
   ]
  },
  {
   "cell_type": "markdown",
   "id": "ce93acc0",
   "metadata": {},
   "source": [
    "FALSO"
   ]
  },
  {
   "cell_type": "markdown",
   "id": "7368043f",
   "metadata": {},
   "source": [
    "##### 7. Verdadeiro ou falso: Analisando os dados nota-se que o número de bolsas concedidas no ano de 2019 é menor do que ano de 2018, mas é maior do que o do ano de 2017"
   ]
  },
  {
   "cell_type": "code",
   "execution_count": 148,
   "id": "52273e3f",
   "metadata": {},
   "outputs": [
    {
     "data": {
      "text/html": [
       "<div>\n",
       "<style scoped>\n",
       "    .dataframe tbody tr th:only-of-type {\n",
       "        vertical-align: middle;\n",
       "    }\n",
       "\n",
       "    .dataframe tbody tr th {\n",
       "        vertical-align: top;\n",
       "    }\n",
       "\n",
       "    .dataframe thead th {\n",
       "        text-align: right;\n",
       "    }\n",
       "</style>\n",
       "<table border=\"1\" class=\"dataframe\">\n",
       "  <thead>\n",
       "    <tr style=\"text-align: right;\">\n",
       "      <th></th>\n",
       "      <th>QTD_BOLSA</th>\n",
       "    </tr>\n",
       "    <tr>\n",
       "      <th>ANO_CONCESSAO_BOLSA</th>\n",
       "      <th></th>\n",
       "    </tr>\n",
       "  </thead>\n",
       "  <tbody>\n",
       "    <tr>\n",
       "      <th>2015</th>\n",
       "      <td>106090</td>\n",
       "    </tr>\n",
       "    <tr>\n",
       "      <th>2016</th>\n",
       "      <td>239262</td>\n",
       "    </tr>\n",
       "    <tr>\n",
       "      <th>2017</th>\n",
       "      <td>236636</td>\n",
       "    </tr>\n",
       "    <tr>\n",
       "      <th>2018</th>\n",
       "      <td>241032</td>\n",
       "    </tr>\n",
       "    <tr>\n",
       "      <th>2019</th>\n",
       "      <td>225555</td>\n",
       "    </tr>\n",
       "  </tbody>\n",
       "</table>\n",
       "</div>"
      ],
      "text/plain": [
       "                     QTD_BOLSA\n",
       "ANO_CONCESSAO_BOLSA           \n",
       "2015                    106090\n",
       "2016                    239262\n",
       "2017                    236636\n",
       "2018                    241032\n",
       "2019                    225555"
      ]
     },
     "execution_count": 148,
     "metadata": {},
     "output_type": "execute_result"
    }
   ],
   "source": [
    "df.filter(items=['ANO_CONCESSAO_BOLSA','QTD_BOLSA'])\\\n",
    "                  .groupby(['ANO_CONCESSAO_BOLSA']).count()\n",
    "\n"
   ]
  },
  {
   "cell_type": "markdown",
   "id": "36ac558a",
   "metadata": {},
   "source": [
    "FALSO"
   ]
  },
  {
   "cell_type": "markdown",
   "id": "524866f6",
   "metadata": {},
   "source": [
    "##### 8. Pode-se afirmar que o número de pessoas concedidas com bolsas de estudo ProUni de 2016 até o ano 2019 por pessoas declaradas tendo como raça Preta não tem variado muito, mas há uma queda constante da distribuição de bolsas da raça Branca ?"
   ]
  },
  {
   "cell_type": "code",
   "execution_count": 344,
   "id": "ad2f3287",
   "metadata": {},
   "outputs": [
    {
     "data": {
      "text/html": [
       "<div>\n",
       "<style scoped>\n",
       "    .dataframe tbody tr th:only-of-type {\n",
       "        vertical-align: middle;\n",
       "    }\n",
       "\n",
       "    .dataframe tbody tr th {\n",
       "        vertical-align: top;\n",
       "    }\n",
       "\n",
       "    .dataframe thead th {\n",
       "        text-align: right;\n",
       "    }\n",
       "</style>\n",
       "<table border=\"1\" class=\"dataframe\">\n",
       "  <thead>\n",
       "    <tr style=\"text-align: right;\">\n",
       "      <th></th>\n",
       "      <th>ANO_CONCESSAO_BOLSA</th>\n",
       "      <th>CODIGO_EMEC_IES_BOLSA</th>\n",
       "      <th>NOME_IES_BOLSA</th>\n",
       "      <th>TIPO_BOLSA</th>\n",
       "      <th>MODALIDADE_ENSINO_BOLSA</th>\n",
       "      <th>NOME_CURSO_BOLSA</th>\n",
       "      <th>NOME_TURNO_CURSO_BOLSA</th>\n",
       "      <th>SEXO_BENEFICIARIO_BOLSA</th>\n",
       "      <th>RACA_BENEFICIARIO_BOLSA</th>\n",
       "      <th>DT_NASCIMENTO_BENEFICIARIO</th>\n",
       "      <th>IDADE</th>\n",
       "      <th>BENEFICIARIO_DEFICIENTE_FISICO</th>\n",
       "      <th>REGIAO_BENEFICIARIO_BOLSA</th>\n",
       "      <th>SIGLA_UF_BENEFICIARIO_BOLSA</th>\n",
       "      <th>QTD_BOLSA</th>\n",
       "    </tr>\n",
       "  </thead>\n",
       "  <tbody>\n",
       "    <tr>\n",
       "      <th>0</th>\n",
       "      <td>2019</td>\n",
       "      <td>10</td>\n",
       "      <td>PONTIFÍCIA UNIVERSIDADE CATÓLICA DO PARANÁ</td>\n",
       "      <td>BOLSA INTEGRAL</td>\n",
       "      <td>EAD</td>\n",
       "      <td>Administração</td>\n",
       "      <td>Curso a distância</td>\n",
       "      <td>M</td>\n",
       "      <td>Branca</td>\n",
       "      <td>1993-08-19</td>\n",
       "      <td>26</td>\n",
       "      <td>NÃO</td>\n",
       "      <td>SUL</td>\n",
       "      <td>PR</td>\n",
       "      <td>1</td>\n",
       "    </tr>\n",
       "    <tr>\n",
       "      <th>1</th>\n",
       "      <td>2019</td>\n",
       "      <td>10</td>\n",
       "      <td>PONTIFÍCIA UNIVERSIDADE CATÓLICA DO PARANÁ</td>\n",
       "      <td>BOLSA INTEGRAL</td>\n",
       "      <td>EAD</td>\n",
       "      <td>Administração</td>\n",
       "      <td>Curso a distância</td>\n",
       "      <td>F</td>\n",
       "      <td>Branca</td>\n",
       "      <td>1999-11-03</td>\n",
       "      <td>20</td>\n",
       "      <td>NÃO</td>\n",
       "      <td>SUL</td>\n",
       "      <td>PR</td>\n",
       "      <td>1</td>\n",
       "    </tr>\n",
       "    <tr>\n",
       "      <th>2</th>\n",
       "      <td>2019</td>\n",
       "      <td>10</td>\n",
       "      <td>PONTIFÍCIA UNIVERSIDADE CATÓLICA DO PARANÁ</td>\n",
       "      <td>BOLSA INTEGRAL</td>\n",
       "      <td>EAD</td>\n",
       "      <td>Análise E Desenvolvimento De Sistemas</td>\n",
       "      <td>Curso a distância</td>\n",
       "      <td>M</td>\n",
       "      <td>Parda</td>\n",
       "      <td>1999-04-02</td>\n",
       "      <td>20</td>\n",
       "      <td>NÃO</td>\n",
       "      <td>SUL</td>\n",
       "      <td>PR</td>\n",
       "      <td>1</td>\n",
       "    </tr>\n",
       "    <tr>\n",
       "      <th>3</th>\n",
       "      <td>2019</td>\n",
       "      <td>10</td>\n",
       "      <td>PONTIFÍCIA UNIVERSIDADE CATÓLICA DO PARANÁ</td>\n",
       "      <td>BOLSA INTEGRAL</td>\n",
       "      <td>EAD</td>\n",
       "      <td>Análise E Desenvolvimento De Sistemas</td>\n",
       "      <td>Curso a distância</td>\n",
       "      <td>M</td>\n",
       "      <td>Branca</td>\n",
       "      <td>2000-03-15</td>\n",
       "      <td>19</td>\n",
       "      <td>NÃO</td>\n",
       "      <td>SUL</td>\n",
       "      <td>PR</td>\n",
       "      <td>1</td>\n",
       "    </tr>\n",
       "    <tr>\n",
       "      <th>4</th>\n",
       "      <td>2019</td>\n",
       "      <td>10</td>\n",
       "      <td>PONTIFÍCIA UNIVERSIDADE CATÓLICA DO PARANÁ</td>\n",
       "      <td>BOLSA INTEGRAL</td>\n",
       "      <td>EAD</td>\n",
       "      <td>Análise E Desenvolvimento De Sistemas</td>\n",
       "      <td>Curso a distância</td>\n",
       "      <td>M</td>\n",
       "      <td>Branca</td>\n",
       "      <td>1993-05-23</td>\n",
       "      <td>26</td>\n",
       "      <td>NÃO</td>\n",
       "      <td>SUL</td>\n",
       "      <td>PR</td>\n",
       "      <td>1</td>\n",
       "    </tr>\n",
       "  </tbody>\n",
       "</table>\n",
       "</div>"
      ],
      "text/plain": [
       "   ANO_CONCESSAO_BOLSA  CODIGO_EMEC_IES_BOLSA  \\\n",
       "0                 2019                     10   \n",
       "1                 2019                     10   \n",
       "2                 2019                     10   \n",
       "3                 2019                     10   \n",
       "4                 2019                     10   \n",
       "\n",
       "                               NOME_IES_BOLSA      TIPO_BOLSA  \\\n",
       "0  PONTIFÍCIA UNIVERSIDADE CATÓLICA DO PARANÁ  BOLSA INTEGRAL   \n",
       "1  PONTIFÍCIA UNIVERSIDADE CATÓLICA DO PARANÁ  BOLSA INTEGRAL   \n",
       "2  PONTIFÍCIA UNIVERSIDADE CATÓLICA DO PARANÁ  BOLSA INTEGRAL   \n",
       "3  PONTIFÍCIA UNIVERSIDADE CATÓLICA DO PARANÁ  BOLSA INTEGRAL   \n",
       "4  PONTIFÍCIA UNIVERSIDADE CATÓLICA DO PARANÁ  BOLSA INTEGRAL   \n",
       "\n",
       "  MODALIDADE_ENSINO_BOLSA                       NOME_CURSO_BOLSA  \\\n",
       "0                     EAD                          Administração   \n",
       "1                     EAD                          Administração   \n",
       "2                     EAD  Análise E Desenvolvimento De Sistemas   \n",
       "3                     EAD  Análise E Desenvolvimento De Sistemas   \n",
       "4                     EAD  Análise E Desenvolvimento De Sistemas   \n",
       "\n",
       "  NOME_TURNO_CURSO_BOLSA SEXO_BENEFICIARIO_BOLSA RACA_BENEFICIARIO_BOLSA  \\\n",
       "0      Curso a distância                       M                  Branca   \n",
       "1      Curso a distância                       F                  Branca   \n",
       "2      Curso a distância                       M                   Parda   \n",
       "3      Curso a distância                       M                  Branca   \n",
       "4      Curso a distância                       M                  Branca   \n",
       "\n",
       "  DT_NASCIMENTO_BENEFICIARIO  IDADE BENEFICIARIO_DEFICIENTE_FISICO  \\\n",
       "0                 1993-08-19     26                            NÃO   \n",
       "1                 1999-11-03     20                            NÃO   \n",
       "2                 1999-04-02     20                            NÃO   \n",
       "3                 2000-03-15     19                            NÃO   \n",
       "4                 1993-05-23     26                            NÃO   \n",
       "\n",
       "  REGIAO_BENEFICIARIO_BOLSA SIGLA_UF_BENEFICIARIO_BOLSA  QTD_BOLSA  \n",
       "0                       SUL                          PR          1  \n",
       "1                       SUL                          PR          1  \n",
       "2                       SUL                          PR          1  \n",
       "3                       SUL                          PR          1  \n",
       "4                       SUL                          PR          1  "
      ]
     },
     "execution_count": 344,
     "metadata": {},
     "output_type": "execute_result"
    }
   ],
   "source": [
    "novo_df= df.iloc[np.where((df.ANO_CONCESSAO_BOLSA!=2015))]\n",
    "novo_df.head()"
   ]
  },
  {
   "cell_type": "code",
   "execution_count": 347,
   "id": "33fce531",
   "metadata": {},
   "outputs": [
    {
     "data": {
      "text/html": [
       "<div>\n",
       "<style scoped>\n",
       "    .dataframe tbody tr th:only-of-type {\n",
       "        vertical-align: middle;\n",
       "    }\n",
       "\n",
       "    .dataframe tbody tr th {\n",
       "        vertical-align: top;\n",
       "    }\n",
       "\n",
       "    .dataframe thead th {\n",
       "        text-align: right;\n",
       "    }\n",
       "</style>\n",
       "<table border=\"1\" class=\"dataframe\">\n",
       "  <thead>\n",
       "    <tr style=\"text-align: right;\">\n",
       "      <th>ANO_CONCESSAO_BOLSA</th>\n",
       "      <th>2016</th>\n",
       "      <th>2017</th>\n",
       "      <th>2018</th>\n",
       "      <th>2019</th>\n",
       "    </tr>\n",
       "    <tr>\n",
       "      <th>RACA_BENEFICIARIO_BOLSA</th>\n",
       "      <th></th>\n",
       "      <th></th>\n",
       "      <th></th>\n",
       "      <th></th>\n",
       "    </tr>\n",
       "  </thead>\n",
       "  <tbody>\n",
       "    <tr>\n",
       "      <th>Amarela</th>\n",
       "      <td>4403</td>\n",
       "      <td>4004</td>\n",
       "      <td>4165</td>\n",
       "      <td>3817</td>\n",
       "    </tr>\n",
       "    <tr>\n",
       "      <th>Branca</th>\n",
       "      <td>97298</td>\n",
       "      <td>94472</td>\n",
       "      <td>93254</td>\n",
       "      <td>86375</td>\n",
       "    </tr>\n",
       "    <tr>\n",
       "      <th>Indígena</th>\n",
       "      <td>194</td>\n",
       "      <td>191</td>\n",
       "      <td>204</td>\n",
       "      <td>197</td>\n",
       "    </tr>\n",
       "    <tr>\n",
       "      <th>Não Informada</th>\n",
       "      <td>10</td>\n",
       "      <td>13</td>\n",
       "      <td>22</td>\n",
       "      <td>5</td>\n",
       "    </tr>\n",
       "    <tr>\n",
       "      <th>Parda</th>\n",
       "      <td>107354</td>\n",
       "      <td>107215</td>\n",
       "      <td>112148</td>\n",
       "      <td>105705</td>\n",
       "    </tr>\n",
       "    <tr>\n",
       "      <th>Preta</th>\n",
       "      <td>30003</td>\n",
       "      <td>30741</td>\n",
       "      <td>31239</td>\n",
       "      <td>29456</td>\n",
       "    </tr>\n",
       "  </tbody>\n",
       "</table>\n",
       "</div>"
      ],
      "text/plain": [
       "ANO_CONCESSAO_BOLSA        2016    2017    2018    2019\n",
       "RACA_BENEFICIARIO_BOLSA                                \n",
       "Amarela                    4403    4004    4165    3817\n",
       "Branca                    97298   94472   93254   86375\n",
       "Indígena                    194     191     204     197\n",
       "Não Informada                10      13      22       5\n",
       "Parda                    107354  107215  112148  105705\n",
       "Preta                     30003   30741   31239   29456"
      ]
     },
     "execution_count": 347,
     "metadata": {},
     "output_type": "execute_result"
    }
   ],
   "source": [
    "df2= novo_df.pivot_table(index='RACA_BENEFICIARIO_BOLSA', columns='ANO_CONCESSAO_BOLSA', values='QTD_BOLSA', aggfunc='count')\n",
    "df2"
   ]
  },
  {
   "cell_type": "code",
   "execution_count": 152,
   "id": "59a1987a",
   "metadata": {},
   "outputs": [
    {
     "data": {
      "text/plain": [
       "array(['Branca', 'Parda', 'Preta', 'Amarela', 'Indígena', 'Não Informada'],\n",
       "      dtype=object)"
      ]
     },
     "execution_count": 152,
     "metadata": {},
     "output_type": "execute_result"
    }
   ],
   "source": [
    "unicos2 = df['RACA_BENEFICIARIO_BOLSA'].unique()\n",
    "unicos2"
   ]
  },
  {
   "cell_type": "code",
   "execution_count": 377,
   "id": "d522200d",
   "metadata": {},
   "outputs": [
    {
     "data": {
      "image/png": "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\n",
      "text/plain": [
       "<Figure size 1080x576 with 1 Axes>"
      ]
     },
     "metadata": {},
     "output_type": "display_data"
    }
   ],
   "source": [
    "plt.figure(figsize=(15, 8))\n",
    "plt.style.use('seaborn')\n",
    "ax = gca()\n",
    "ax.xaxis.set_tick_params(labelsize=16)\n",
    "ax.yaxis.set_tick_params(labelsize=16)\n",
    "plt.title('Quantidade de bolsas por raça e ano',fontsize=18,pad=20)\n",
    "plt.plot(df2,label= ['2016','2017','2018','2019'])\n",
    "plt.legend (ncol = 1, loc= (1.03, 0),fontsize=15)\n",
    "plt.xlabel('RAÇA', fontsize=15, labelpad =20)\n",
    "plt.ylabel('Qtd de bolsas', fontsize=18)\n",
    "\n",
    "plt.show()\n",
    "\n"
   ]
  },
  {
   "cell_type": "markdown",
   "id": "bbb06d45",
   "metadata": {},
   "source": [
    "Sim. Verdadeiro"
   ]
  },
  {
   "cell_type": "markdown",
   "id": "402e47f1",
   "metadata": {},
   "source": [
    "##### “Analisando os cursos que mais receberam bolsas de estudo de 2015 a 2019,  os cursos de Administração, Direito e Pedagogia estão nas primeiras colocações. Sendo que o de Administração está sempre na primeira colocação.”"
   ]
  },
  {
   "cell_type": "code",
   "execution_count": 165,
   "id": "5b331aed",
   "metadata": {
    "scrolled": true
   },
   "outputs": [
    {
     "data": {
      "text/html": [
       "<div>\n",
       "<style scoped>\n",
       "    .dataframe tbody tr th:only-of-type {\n",
       "        vertical-align: middle;\n",
       "    }\n",
       "\n",
       "    .dataframe tbody tr th {\n",
       "        vertical-align: top;\n",
       "    }\n",
       "\n",
       "    .dataframe thead th {\n",
       "        text-align: right;\n",
       "    }\n",
       "</style>\n",
       "<table border=\"1\" class=\"dataframe\">\n",
       "  <thead>\n",
       "    <tr style=\"text-align: right;\">\n",
       "      <th></th>\n",
       "      <th></th>\n",
       "      <th>QTD_BOLSA</th>\n",
       "    </tr>\n",
       "    <tr>\n",
       "      <th>NOME_CURSO_BOLSA</th>\n",
       "      <th>ANO_CONCESSAO_BOLSA</th>\n",
       "      <th></th>\n",
       "    </tr>\n",
       "  </thead>\n",
       "  <tbody>\n",
       "    <tr>\n",
       "      <th rowspan=\"2\" valign=\"top\">Administração</th>\n",
       "      <th>2016</th>\n",
       "      <td>24567</td>\n",
       "    </tr>\n",
       "    <tr>\n",
       "      <th>2019</th>\n",
       "      <td>18884</td>\n",
       "    </tr>\n",
       "    <tr>\n",
       "      <th rowspan=\"2\" valign=\"top\">Direito</th>\n",
       "      <th>2016</th>\n",
       "      <td>18731</td>\n",
       "    </tr>\n",
       "    <tr>\n",
       "      <th>2018</th>\n",
       "      <td>17363</td>\n",
       "    </tr>\n",
       "    <tr>\n",
       "      <th rowspan=\"2\" valign=\"top\">Administração</th>\n",
       "      <th>2017</th>\n",
       "      <td>17217</td>\n",
       "    </tr>\n",
       "    <tr>\n",
       "      <th>2018</th>\n",
       "      <td>17184</td>\n",
       "    </tr>\n",
       "    <tr>\n",
       "      <th>Pedagogia</th>\n",
       "      <th>2019</th>\n",
       "      <td>17076</td>\n",
       "    </tr>\n",
       "    <tr>\n",
       "      <th>Direito</th>\n",
       "      <th>2019</th>\n",
       "      <td>16983</td>\n",
       "    </tr>\n",
       "    <tr>\n",
       "      <th rowspan=\"2\" valign=\"top\">Pedagogia</th>\n",
       "      <th>2018</th>\n",
       "      <td>16830</td>\n",
       "    </tr>\n",
       "    <tr>\n",
       "      <th>2016</th>\n",
       "      <td>16416</td>\n",
       "    </tr>\n",
       "    <tr>\n",
       "      <th>Direito</th>\n",
       "      <th>2017</th>\n",
       "      <td>15570</td>\n",
       "    </tr>\n",
       "    <tr>\n",
       "      <th>Pedagogia</th>\n",
       "      <th>2017</th>\n",
       "      <td>14098</td>\n",
       "    </tr>\n",
       "    <tr>\n",
       "      <th>Administração</th>\n",
       "      <th>2015</th>\n",
       "      <td>13266</td>\n",
       "    </tr>\n",
       "    <tr>\n",
       "      <th rowspan=\"3\" valign=\"top\">Ciências Contábeis</th>\n",
       "      <th>2016</th>\n",
       "      <td>12994</td>\n",
       "    </tr>\n",
       "    <tr>\n",
       "      <th>2019</th>\n",
       "      <td>11337</td>\n",
       "    </tr>\n",
       "    <tr>\n",
       "      <th>2018</th>\n",
       "      <td>10797</td>\n",
       "    </tr>\n",
       "    <tr>\n",
       "      <th>Engenharia Civil</th>\n",
       "      <th>2016</th>\n",
       "      <td>10658</td>\n",
       "    </tr>\n",
       "    <tr>\n",
       "      <th>Ciências Contábeis</th>\n",
       "      <th>2017</th>\n",
       "      <td>10328</td>\n",
       "    </tr>\n",
       "    <tr>\n",
       "      <th>Enfermagem</th>\n",
       "      <th>2018</th>\n",
       "      <td>10310</td>\n",
       "    </tr>\n",
       "    <tr>\n",
       "      <th>Educação Física</th>\n",
       "      <th>2016</th>\n",
       "      <td>10100</td>\n",
       "    </tr>\n",
       "  </tbody>\n",
       "</table>\n",
       "</div>"
      ],
      "text/plain": [
       "                                        QTD_BOLSA\n",
       "NOME_CURSO_BOLSA   ANO_CONCESSAO_BOLSA           \n",
       "Administração      2016                     24567\n",
       "                   2019                     18884\n",
       "Direito            2016                     18731\n",
       "                   2018                     17363\n",
       "Administração      2017                     17217\n",
       "                   2018                     17184\n",
       "Pedagogia          2019                     17076\n",
       "Direito            2019                     16983\n",
       "Pedagogia          2018                     16830\n",
       "                   2016                     16416\n",
       "Direito            2017                     15570\n",
       "Pedagogia          2017                     14098\n",
       "Administração      2015                     13266\n",
       "Ciências Contábeis 2016                     12994\n",
       "                   2019                     11337\n",
       "                   2018                     10797\n",
       "Engenharia Civil   2016                     10658\n",
       "Ciências Contábeis 2017                     10328\n",
       "Enfermagem         2018                     10310\n",
       "Educação Física    2016                     10100"
      ]
     },
     "execution_count": 165,
     "metadata": {},
     "output_type": "execute_result"
    }
   ],
   "source": [
    "cursos= data2.filter(items=['ANO_CONCESSAO_BOLSA','QTD_BOLSA','NOME_CURSO_BOLSA'])\\\n",
    "                  .groupby(['NOME_CURSO_BOLSA','ANO_CONCESSAO_BOLSA']).count().sort_values(by='QTD_BOLSA', ascending=False)\n",
    "cursos.head(20)"
   ]
  },
  {
   "cell_type": "markdown",
   "id": "41621313",
   "metadata": {},
   "source": [
    "FALSO"
   ]
  },
  {
   "cell_type": "markdown",
   "id": "f909697a",
   "metadata": {},
   "source": [
    "#### “A universidade no ano de 2019 que mais concede bolsas possui um número superior à soma da segunda, terceira e quarta colocadas juntas.”\"\n"
   ]
  },
  {
   "cell_type": "code",
   "execution_count": 178,
   "id": "b39ea300",
   "metadata": {},
   "outputs": [],
   "source": [
    "\n",
    "ano2019 = np.where((df.ANO_CONCESSAO_BOLSA==2019))\n",
    "tabela_2019=df.iloc[ano2019]\n"
   ]
  },
  {
   "cell_type": "code",
   "execution_count": 239,
   "id": "9ac955d2",
   "metadata": {},
   "outputs": [],
   "source": [
    "tabela_de_teste = tabela_2019.copy()"
   ]
  },
  {
   "cell_type": "code",
   "execution_count": 265,
   "id": "aa69ee44",
   "metadata": {},
   "outputs": [
    {
     "data": {
      "text/plain": [
       "CODIGO_EMEC_IES_BOLSA\n",
       "322     36618\n",
       "1491     8598\n",
       "163      7009\n",
       "1472     5343\n",
       "298      4864\n",
       "dtype: int64"
      ]
     },
     "execution_count": 265,
     "metadata": {},
     "output_type": "execute_result"
    }
   ],
   "source": [
    "#groups = tabela_de_teste.groupby(['NOME_IES_BOLSA']).size().sort_values(ascending=False).head()\n",
    "groups = tabela_de_teste.groupby(['CODIGO_EMEC_IES_BOLSA']).size().sort_values(ascending=False).head()\n",
    "groups"
   ]
  },
  {
   "cell_type": "code",
   "execution_count": 282,
   "id": "2da3b6cd",
   "metadata": {},
   "outputs": [],
   "source": [
    "from matplotlib.offsetbox import TextArea, VPacker, AnnotationBbox\n",
    "from pylab import *"
   ]
  },
  {
   "cell_type": "code",
   "execution_count": 322,
   "id": "76320816",
   "metadata": {},
   "outputs": [
    {
     "data": {
      "image/png": "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\n",
      "text/plain": [
       "<Figure size 1008x576 with 1 Axes>"
      ]
     },
     "metadata": {},
     "output_type": "display_data"
    }
   ],
   "source": [
    "\n",
    "fig = figure(1)\n",
    "ax = gca()\n",
    "ax.xaxis.set_tick_params(labelsize=16)\n",
    "plt.title('FACULDADES QUE CONCEDERAM MAIS BOLSAS',fontsize=18,pad=20)\n",
    "groups.plot.bar(figsize=(14, 8))\n",
    "plt.ylabel('QUANTIDADE DE BOLSAS',fontsize=13)\n",
    "plt.xlabel('CÓDIGO DA FACULDADE',fontsize=13)\n",
    "texts = ['322:UNIVERSIDADE PAULISTA','1491:CENTRO UNIVERSITÁRIO INTERNACIONAL',\n",
    "        '163:UNIVERSIDADE ESTÁCIO DE SÁ',\n",
    "        '1472:CENTRO UNIVERSITÁRIO LEONARDO DA VINCI',\n",
    "        '298:UNIVERSIDADE PITÁGORAS UNOPAR ']\n",
    "colors = ['black','black','black','black','black']\n",
    "Texts = []\n",
    "for t,c in zip(texts,colors):\n",
    "    Texts.append(TextArea(t,textprops=dict(color=c)))\n",
    "texts_vbox = VPacker(children=Texts,pad=2,sep=0)\n",
    "ann = AnnotationBbox(texts_vbox,(0, -0.25),xycoords=ax.transAxes,box_alignment=(0,.5),\n",
    "                            bboxprops = \n",
    "                            dict(facecolor='wheat',boxstyle='round',color='white'))\n",
    "ann.set_figure(fig)\n",
    "fig.artists.append(ann)"
   ]
  },
  {
   "cell_type": "markdown",
   "id": "e15926d8",
   "metadata": {},
   "source": [
    "VERDADEIRO"
   ]
  },
  {
   "cell_type": "code",
   "execution_count": null,
   "id": "d85aa633",
   "metadata": {},
   "outputs": [],
   "source": []
  }
 ],
 "metadata": {
  "kernelspec": {
   "display_name": "Python 3 (ipykernel)",
   "language": "python",
   "name": "python3"
  },
  "language_info": {
   "codemirror_mode": {
    "name": "ipython",
    "version": 3
   },
   "file_extension": ".py",
   "mimetype": "text/x-python",
   "name": "python",
   "nbconvert_exporter": "python",
   "pygments_lexer": "ipython3",
   "version": "3.9.12"
  }
 },
 "nbformat": 4,
 "nbformat_minor": 5
}
